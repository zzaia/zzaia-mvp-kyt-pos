{
 "cells": [
  {
   "cell_type": "markdown",
   "metadata": {},
   "source": [
    "# Selected Dataset: Elliptic Data Set\n",
    "\n",
    "**Selection Date**: 2025-08-29  \n",
    "**Selected from**: dataset-exploration-risk-scoring-research.md  \n",
    "**Rank**: #1 out of 10 evaluated datasets  \n",
    "**Suitability Score**: 92/100  \n",
    "\n",
    "## Dataset Overview\n",
    "\n",
    "### **Elliptic Data Set**\n",
    "- **Source Platform**: Kaggle\n",
    "- **Direct URL**: https://www.kaggle.com/datasets/ellipticco/elliptic-data-set\n",
    "- **Dataset Size**: 200,000 transactions � 166 features, ~6GB\n",
    "- **Problem Relevance**: High - Bitcoin illicit transaction classification\n",
    "- **Data Quality**: Excellent - professionally curated by Elliptic Co.\n",
    "- **License Type**: Open (with attribution requirements)\n",
    "- **Last Updated**: 2019 (stable reference dataset)\n",
    "- **Preprocessing Needs**: Minimal - ready for ML training\n",
    "\n",
    "## Key Features and Structure\n",
    "\n",
    "### Feature Categories\n",
    "- **Local Features**: 94 transaction-specific features\n",
    "- **Aggregate Features**: 72 neighborhood/graph-based features  \n",
    "- **Total Features**: 166 feature dimensions\n",
    "- **Temporal Component**: Time step information included\n",
    "- **Labels**: Binary classification (illicit/licit)\n",
    "\n",
    "### Specific Features Include:\n",
    "- Transaction fees\n",
    "- Input/output volumes  \n",
    "- Neighbor aggregates\n",
    "- Time steps\n",
    "- BTC amounts\n",
    "- Graph topology metrics\n",
    "- Wallet clustering information"
   ]
  },
  {
   "cell_type": "code",
   "execution_count": null,
   "metadata": {},
   "outputs": [],
   "source": []
  }
 ],
 "metadata": {
  "language_info": {
   "name": "python"
  }
 },
 "nbformat": 4,
 "nbformat_minor": 5
}
