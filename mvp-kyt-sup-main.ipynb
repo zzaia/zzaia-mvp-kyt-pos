{
 "cells": [
  {
   "cell_type": "markdown",
   "metadata": {},
   "source": [
    "## MVP Know Your Transaction (KYT) - Transaction Risk Classification Engine\n",
    "\n",
    "### Project Overview\n",
    "\n",
    "This notebook presents a comprehensive implementation of a Transaction Risk Classification Engine for Anti-Money Laundering (AML) compliance in cryptocurrency transactions. The project addresses the critical need for risk assessment of Bitcoin transactions by combining traditional AML indicators with blockchain-specific risk factors.\n",
    "\n",
    "### Domain Context: Financial AML for Transactions\n",
    "\n",
    "#### Core Domain Definition\n",
    "Anti-Money Laundering (AML) for transactions encompasses the comprehensive framework of laws, regulations, procedures, and technological solutions designed to prevent criminals from disguising illegally obtained funds as legitimate income through the global financial system. This domain includes detection, prevention, and reporting of money laundering, terrorist financing, tax evasion, market manipulation, and misuse of public funds.\n",
    "\n",
    "### Problem Definition: Transaction Risk Classification Engine\n",
    "\n",
    "#### Problem Statement\n",
    "Develop a system that assigns risk classifications to cryptocurrency transactions in real-time, integrating traditional AML indicators with blockchain-specific risk factors including wallet clustering, transaction graph analysis, and counterparty reputation scoring.\n",
    "\n",
    "#### Technical Requirements\n",
    "- **Problem Type**: Classification \n",
    "- **Processing Speed**: Sub-second analysis for high-frequency transactions\n",
    "- **Difficulty Level**: High - requires complex multi-dimensional data processing\n",
    "- **Output Format**: Risk binary classification (illicit = 1 /licit = 2)\n",
    "\n",
    "#### Data Landscape\n",
    "The system can processes multiple data dimensions:\n",
    "- Transaction metadata (amounts, timestamps, fees)\n",
    "- Wallet addresses and clustering information\n",
    "- Transaction graph relationships and network topology\n",
    "- Counterparty databases and reputation scores\n",
    "- Sanctions lists and regulatory databases\n",
    "- Temporal patterns and behavioral baselines\n",
    "\n",
    "### References\n",
    "\n",
    "This notebook implementation is based on the comprehensive research and analysis conducted during the project development phase. The following reference documents were used in the composition of this initial description:\n",
    "\n",
    "- **Domain Research**: [current-domain.md](domains/current-domain.md) - Contains detailed market analysis, regulatory framework research, and commercial viability assessment for the Financial AML domain;\n",
    "- **Problem Analysis**: [current-problem.md](problems/current-problem.md) - Provides comprehensive problem refinement, technical requirements analysis, and solution approach evaluation;\n",
    "- **Dataset Evaluation**: [current-dataset.md](datasets/current-dataset.md) - Documents dataset selection criteria, suitability scoring, and detailed feature analysis for the Elliptic dataset;\n",
    "- **Dataset Analysis & Preprocessing**: [dataset-analysis-and-preprocessing.ipynb](datasets/scripts/dataset-analysis-and-preprocessing.ipynb) - Comprehensive Jupyter notebook containing Elliptic dataset download, exploratory data analysis, and ML preparation steps;\n",
    "\n",
    "These reference documents contain the foundational research that informed the technical approach, feature engineering strategy, and implementation decisions reflected in this notebook.\n",
    "\n",
    "---\n",
    "\n",
    "This notebook serves as the primary entry point for the MVP KYT implementation and it can run independently, providing both technical implementation and business context for real cryptocurrency transaction risk assessment."
   ]
  },
  {
   "cell_type": "markdown",
   "metadata": {},
   "source": [
    "### Import Libraries\n",
    "\n",
    "Comprehensive installation and import of all required libraries for machine learning procedures."
   ]
  },
  {
   "cell_type": "code",
   "execution_count": 29,
   "metadata": {},
   "outputs": [
    {
     "name": "stdout",
     "output_type": "stream",
     "text": [
      "Requirement already satisfied: azure-storage-blob in /home/raphael-pizzaia/miniconda/envs/venv-analytics/lib/python3.13/site-packages (12.26.0)\n",
      "Requirement already satisfied: azure-core>=1.30.0 in /home/raphael-pizzaia/miniconda/envs/venv-analytics/lib/python3.13/site-packages (from azure-storage-blob) (1.35.1)\n",
      "Requirement already satisfied: cryptography>=2.1.4 in /home/raphael-pizzaia/miniconda/envs/venv-analytics/lib/python3.13/site-packages (from azure-storage-blob) (46.0.1)\n",
      "Requirement already satisfied: typing-extensions>=4.6.0 in /home/raphael-pizzaia/miniconda/envs/venv-analytics/lib/python3.13/site-packages (from azure-storage-blob) (4.15.0)\n",
      "Requirement already satisfied: isodate>=0.6.1 in /home/raphael-pizzaia/miniconda/envs/venv-analytics/lib/python3.13/site-packages (from azure-storage-blob) (0.7.2)\n",
      "Requirement already satisfied: requests>=2.21.0 in /home/raphael-pizzaia/miniconda/envs/venv-analytics/lib/python3.13/site-packages (from azure-core>=1.30.0->azure-storage-blob) (2.32.4)\n",
      "Requirement already satisfied: six>=1.11.0 in /home/raphael-pizzaia/miniconda/envs/venv-analytics/lib/python3.13/site-packages (from azure-core>=1.30.0->azure-storage-blob) (1.17.0)\n",
      "Requirement already satisfied: cffi>=2.0.0 in /home/raphael-pizzaia/miniconda/envs/venv-analytics/lib/python3.13/site-packages (from cryptography>=2.1.4->azure-storage-blob) (2.0.0)\n",
      "Requirement already satisfied: pycparser in /home/raphael-pizzaia/miniconda/envs/venv-analytics/lib/python3.13/site-packages (from cffi>=2.0.0->cryptography>=2.1.4->azure-storage-blob) (2.21)\n",
      "Requirement already satisfied: charset_normalizer<4,>=2 in /home/raphael-pizzaia/miniconda/envs/venv-analytics/lib/python3.13/site-packages (from requests>=2.21.0->azure-core>=1.30.0->azure-storage-blob) (3.3.2)\n",
      "Requirement already satisfied: idna<4,>=2.5 in /home/raphael-pizzaia/miniconda/envs/venv-analytics/lib/python3.13/site-packages (from requests>=2.21.0->azure-core>=1.30.0->azure-storage-blob) (3.7)\n",
      "Requirement already satisfied: urllib3<3,>=1.21.1 in /home/raphael-pizzaia/miniconda/envs/venv-analytics/lib/python3.13/site-packages (from requests>=2.21.0->azure-core>=1.30.0->azure-storage-blob) (2.5.0)\n",
      "Requirement already satisfied: certifi>=2017.4.17 in /home/raphael-pizzaia/miniconda/envs/venv-analytics/lib/python3.13/site-packages (from requests>=2.21.0->azure-core>=1.30.0->azure-storage-blob) (2025.8.3)\n"
     ]
    }
   ],
   "source": [
    "!pip install azure-storage-blob\n",
    "\n",
    "\n",
    "from pathlib import Path\n",
    "from azure.storage.blob import BlobServiceClient\n",
    "\n",
    "\n",
    "\"\"\"\n",
    "Utility functions for dataset processing and Azure blob storage operations.\n",
    "\"\"\"\n",
    "class AzureBlobDownloader:\n",
    "    \"\"\"\n",
    "    Azure Blob Storage downloader class for managing dataset downloads.\n",
    "\n",
    "    This class encapsulates Azure blob operations and maintains connection state\n",
    "    for efficient dataset management operations.\n",
    "    \"\"\"\n",
    "\n",
    "    def __init__(self, account_url, container_name):\n",
    "        \"\"\"\n",
    "        Initialize Azure blob downloader.\n",
    "\n",
    "        Args:\n",
    "            account_url (str): Azure storage account URL\n",
    "            container_name (str): Name of the blob container\n",
    "\n",
    "        Raises:\n",
    "            Exception: If connection to Azure fails or Azure SDK not available\n",
    "        \"\"\"\n",
    "        try:\n",
    "            self.account_url = account_url\n",
    "            self.container_name = container_name\n",
    "            self.blob_service_client = BlobServiceClient(account_url=account_url)\n",
    "            self.container_client = self.blob_service_client.get_container_client(container_name)\n",
    "\n",
    "        except Exception as e:\n",
    "            raise Exception(f\"Failed to initialize Azure Blob connection: {e}\")\n",
    "\n",
    "\n",
    "    def download_documents(self, project_folder, document_folder, base_path=\"../\"):\n",
    "        \"\"\"\n",
    "        Download dataset from Azure Blob Storage.\n",
    "\n",
    "        Args:\n",
    "            dataset_name: Name of the dataset directory in blob storage\n",
    "            base_path: Local base path for downloads (default: \"../\")\n",
    "\n",
    "        Returns:\n",
    "            bool: True if download successful, False otherwise\n",
    "        \"\"\"\n",
    "        try:\n",
    "            original_dir = Path(base_path) / project_folder \n",
    "            specific_dir = original_dir / document_folder\n",
    "\n",
    "            original_dir.mkdir(exist_ok=True)\n",
    "            specific_dir.mkdir(exist_ok=True)\n",
    "\n",
    "            remote_path = f\"{project_folder}/{document_folder}/\"\n",
    "            downloaded_files = 0\n",
    "\n",
    "            for blob in self.container_client.list_blobs(name_starts_with=remote_path):\n",
    "                blob_client = self.container_client.get_blob_client(blob.name)\n",
    "                local_file_path = Path(base_path) / blob.name\n",
    "                local_file_path.parent.mkdir(parents=True, exist_ok=True)\n",
    "\n",
    "                blob_data = blob_client.download_blob()\n",
    "                with open(local_file_path, \"wb\") as download_file:\n",
    "                    download_file.write(blob_data.readall())\n",
    "                downloaded_files += 1\n",
    "\n",
    "            print(f\"Successfully downloaded {downloaded_files} files from Azure Blob Storage\")\n",
    "            return True\n",
    "\n",
    "        except Exception as e:\n",
    "            print(f\"Failed to download from Azure Blob Storage: {e}\")\n",
    "            return False"
   ]
  },
  {
   "cell_type": "code",
   "execution_count": 30,
   "metadata": {},
   "outputs": [],
   "source": [
    "# Gradient Boosting Libraries (install if needed):\n",
    "# !pip install xgboost lightgbm catboost\n",
    "\n",
    "# Deep Learning Libraries (install if needed):\n",
    "# !pip install pytorch-tabnet scikeras tensorflow\n",
    "\n",
    "import os\n",
    "import warnings\n",
    "import joblib\n",
    "import numpy as np\n",
    "import pandas as pd\n",
    "import matplotlib.pyplot as plt\n",
    "from pathlib import Path\n",
    "from sklearn.preprocessing import StandardScaler, QuantileTransformer\n",
    "from sklearn.decomposition import PCA\n",
    "from sklearn.model_selection import train_test_split\n",
    "from sklearn.model_selection import StratifiedKFold\n",
    "from sklearn.model_selection import cross_val_score\n",
    "from sklearn.metrics import accuracy_score\n",
    "from sklearn.metrics import make_scorer\n",
    "from sklearn.metrics import precision_score\n",
    "from sklearn.metrics import recall_score\n",
    "from sklearn.pipeline import Pipeline\n",
    "from sklearn.linear_model import LogisticRegression\n",
    "from sklearn.tree import DecisionTreeClassifier\n",
    "from sklearn.neighbors import KNeighborsClassifier\n",
    "from sklearn.naive_bayes import GaussianNB\n",
    "from sklearn.svm import SVC\n",
    "from sklearn.ensemble import BaggingClassifier\n",
    "from sklearn.ensemble import RandomForestClassifier\n",
    "from sklearn.ensemble import ExtraTreesClassifier\n",
    "from sklearn.ensemble import AdaBoostClassifier\n",
    "from sklearn.ensemble import GradientBoostingClassifier\n",
    "from sklearn.ensemble import VotingClassifier\n",
    "from sklearn.ensemble import StackingClassifier\n",
    "from sklearn.metrics import f1_score\n",
    "import optuna\n",
    "from optuna.samplers import TPESampler\n",
    "import xgboost as xgb\n",
    "import lightgbm as lgb\n",
    "import catboost as cb\n",
    "from pytorch_tabnet.tab_model import TabNetClassifier\n",
    "import torch\n",
    "from scikeras.wrappers import KerasClassifier\n",
    "import tensorflow as tf\n",
    "from tensorflow import keras\n",
    "from tensorflow.keras.models import Sequential\n",
    "from tensorflow.keras.layers import Dense, Dropout, BatchNormalization\n",
    "from sklearn.metrics import confusion_matrix, matthews_corrcoef\n",
    "from sklearn.metrics import average_precision_score\n",
    "\n",
    "# Suppress all warnings\n",
    "warnings.filterwarnings('ignore')\n",
    "optuna.logging.set_verbosity(optuna.logging.WARNING)\n",
    "tf.get_logger().setLevel('ERROR')\n",
    "\n",
    "gpus = tf.config.list_physical_devices('GPU')\n",
    "if gpus:\n",
    "    for gpu in gpus:\n",
    "        tf.config.experimental.set_memory_growth(gpu, True)\n",
    "\n",
    "azureClient = AzureBlobDownloader(\"https://stmvppos.blob.core.windows.net\", \"mvpkytsup\")"
   ]
  },
  {
   "cell_type": "markdown",
   "metadata": {},
   "source": [
    "### Loading pre-processed datasets\n",
    "\n",
    "Let's load the pre-processed and compressed data from remote and local sources. The dataset is a composition of cryptocurrency transactions in the Bitcoin blockchain. \n",
    "\n",
    "It has 166 features, of which 92 features represent local transaction information and another 72 features represent aggregated information from one-hop neighboring transactions (directly linked transactions). Thus, the dataset already has curated information about the relationships between transactions. \n",
    "\n",
    "This is very important because money laundering and fraud patterns often involve coordinated transaction clusters and neighborhood patterns."
   ]
  },
  {
   "cell_type": "code",
   "execution_count": 31,
   "metadata": {},
   "outputs": [
    {
     "name": "stdout",
     "output_type": "stream",
     "text": [
      "Loaded from HDF5: (203769, 168) - All subsequent operations will use compressed data\n",
      "Loaded from HDF5: (46564, 168) - All subsequent operations will use compressed data\n",
      "Loaded from HDF5: (157205, 168) - All subsequent operations will use compressed data\n",
      "Loaded from HDF5: (234355, 2) - All subsequent operations will use compressed data\n",
      "\n",
      "📊 Dataset Summary:\n",
      "  - Features: 203,769 transactions × 166 features\n",
      "  - Labeled: 46,564 transactions\n",
      "  - Unlabeled: 157,205 transactions\n",
      "  - Edges: 234,355 transaction relationships\n"
     ]
    }
   ],
   "source": [
    "# Define paths\n",
    "dataset_dir = Path(\"elliptic_bitcoin_dataset\")\n",
    "root_dir = Path(\"./datasets\")\n",
    "processed_dir = root_dir / \"processed\" / dataset_dir\n",
    "root_dir.mkdir(exist_ok=True)\n",
    "\n",
    "# Download processed data from Azure if not present locally\n",
    "if not processed_dir.exists() or not any(processed_dir.iterdir()):\n",
    "    print(f\"Local processed directory is empty. Downloading from Azure...\")\n",
    "    azureClient.download_documents(\"datasets/processed\", dataset_dir.name, base_path=\"./\")\n",
    "\n",
    "# The complete dataset already pre-processed \n",
    "df_complete = pd.read_hdf(processed_dir / \"df_complete.h5\", key=\"df_complete\")\n",
    "print(f\"Loaded from HDF5: {df_complete.shape} - All subsequent operations will use compressed data\")\n",
    "\n",
    "# The filtered labeled dataset already pre-processed\n",
    "df_labeled = pd.read_hdf(processed_dir / \"df_labeled.h5\", key=\"df_labeled\")\n",
    "print(f\"Loaded from HDF5: {df_labeled.shape} - All subsequent operations will use compressed data\")\n",
    "\n",
    "# The filtered unlabeled dataset already pre-processed\n",
    "df_unlabeled = pd.read_hdf(processed_dir / \"df_unlabeled.h5\", key=\"df_unlabeled\")\n",
    "print(f\"Loaded from HDF5: {df_unlabeled.shape} - All subsequent operations will use compressed data\")\n",
    "\n",
    "# The edges dataset that maps relationships between transaction nodes\n",
    "df_edges = pd.read_hdf(processed_dir / \"df_edges.h5\", key=\"df_edges\")\n",
    "print(f\"Loaded from HDF5: {df_edges.shape} - All subsequent operations will use compressed data\")\n",
    "\n",
    "# Summary of all datasets\n",
    "print(f\"\\n📊 Dataset Summary:\")\n",
    "print(f\"  - Features: {df_complete.shape[0]:,} transactions × {df_complete.shape[1] -2} features\")\n",
    "print(f\"  - Labeled: {df_labeled.shape[0]:,} transactions\")\n",
    "print(f\"  - Unlabeled: {df_unlabeled.shape[0]:,} transactions\")\n",
    "print(f\"  - Edges: {df_edges.shape[0]:,} transaction relationships\")"
   ]
  },
  {
   "cell_type": "markdown",
   "metadata": {},
   "source": [
    "### Machine Learning Strategy\n",
    "\n",
    "Let's apply machine learning techniques to the labeled dataset portion using supervised learning, and apply the prediction to the unknown unlabeled dataset portion in order to establish a performance baseline for future improvements.\n",
    "\n",
    "Following these steps:\n",
    "\n",
    "1. Define overall parameters and make data splits;\n",
    "2. Define all training models to be used;\n",
    "3. Define all pipelines to be used during training;\n",
    "4. Define model parameter distributions for a grid search approach;\n",
    "5. Define the score function to be used during training;\n",
    "6. Execute the training;\n",
    "7. Save all resulting models;\n",
    "8. Validate all models and select the best models;\n",
    "9. Use best models to predict unknown data;"
   ]
  },
  {
   "cell_type": "markdown",
   "metadata": {},
   "source": [
    "**1. Define overall parameters and make data splits**\n",
    "\n",
    "After splitting the labeled dataset into training and validation (test) sets, let's prepare the training dataset for training and validation using the stratified approach, which generates a fixed number of splits (folds) for the dataset following a fixed proportion of train/test samples. \n",
    "\n",
    "The main idea of this approach is to guarantee training without bias toward a specific dataset split because it maintains the same class proportion for each split (fold) generated. We use this technique in labeled and supervised learning, assuming that the dataset's pattern does not have significant changes over time.\n",
    "\n",
    "In this specific dataset, we consider the timestamp as a grouping factor for transactions but not as a changing factor for the dataset's pattern over time."
   ]
  },
  {
   "cell_type": "code",
   "execution_count": 32,
   "metadata": {},
   "outputs": [],
   "source": [
    "# Defining overall parameters\n",
    "random_seed = 4354 # PARAMETER: random seed\n",
    "test_size_split = 0.20 # PARAMETER: test set size\n",
    "n_stratified_splits = 2 # PARAMETER: number of folds\n",
    "n_pca_components = 0.95 # PARAMETER: PCA components to keep\n",
    "\n",
    "np.random.seed(random_seed)\n",
    "\n",
    "# Prepare data\n",
    "x_labeled = df_labeled.drop(['class', 'txId'], axis=1)\n",
    "y_labeled = df_labeled['class']\n",
    "\n",
    "# Split the data into training and testing set\n",
    "X_train, X_test, y_train, y_test = train_test_split(x_labeled, y_labeled,\n",
    "    test_size=test_size_split, \n",
    "    shuffle=True, \n",
    "    random_state=random_seed, \n",
    "    stratify=y_labeled) # stratified holdout\n",
    "\n",
    "# Cross-validation setup to be applied in the training set \n",
    "cv = StratifiedKFold(n_splits=n_stratified_splits, \n",
    "                     shuffle=True, \n",
    "                     random_state=random_seed)"
   ]
  },
  {
   "cell_type": "markdown",
   "metadata": {},
   "source": [
    "**2. Define all training models to be used**\n",
    "\n",
    "Let's define which models to use during training, selecting diverse ML algorithms covering linear, tree-based, probabilistic, and ensemble methods. \n",
    "\n",
    "Different algorithms capture different transaction patterns; ensemble methods reduce overfitting risk and can improve individual model performance."
   ]
  },
  {
   "cell_type": "code",
   "execution_count": 33,
   "metadata": {},
   "outputs": [],
   "source": [
    "# Defining the individual models\n",
    "reg = ('LR', LogisticRegression())\n",
    "knn = ('KNN', KNeighborsClassifier())\n",
    "cart = ('CART', DecisionTreeClassifier())\n",
    "nav = ('NB', GaussianNB())\n",
    "svm = ('SVM', SVC(probability=True))\n",
    "\n",
    "# Defining ensemble models\n",
    "bagging = ('Bag', BaggingClassifier())\n",
    "forest = ('RF', RandomForestClassifier())\n",
    "extra = ('ET', ExtraTreesClassifier())\n",
    "ada = ('Ada', AdaBoostClassifier())\n",
    "gradient = ('GB', GradientBoostingClassifier())\n",
    "\n",
    "def create_feedforward_nn(hidden_dims=[128, 64], dropout=0.3, learning_rate=0.001, meta=None, input_dim=59):\n",
    "    \"\"\"\n",
    "    Create a feedforward neural network for binary classification.\n",
    "    \n",
    "    Args:\n",
    "        hidden_dims: List of hidden layer sizes\n",
    "        dropout: Dropout rate for regularization\n",
    "        learning_rate: Optimizer learning rate\n",
    "    \n",
    "    Returns:\n",
    "        Compiled Keras Sequential model\n",
    "    \"\"\"\n",
    "\n",
    "    # Get actual PCA output dimension (DYNAMIC per CV fold)\n",
    "    input_dim = meta['n_features_in_'] if meta else 59  # Fallback to 59 if meta unavailable\n",
    "\n",
    "    model = Sequential()\n",
    "    \n",
    "    # Input layer + first hidden layer\n",
    "    model.add(Dense(hidden_dims[0], activation='relu', input_dim=input_dim))\n",
    "    model.add(BatchNormalization())\n",
    "    model.add(Dropout(dropout))\n",
    "    \n",
    "    # Additional hidden layers\n",
    "    for units in hidden_dims[1:]:\n",
    "        model.add(Dense(units, activation='relu'))\n",
    "        model.add(BatchNormalization())\n",
    "        model.add(Dropout(dropout))\n",
    "    \n",
    "    # Output layer (binary classification)\n",
    "    model.add(Dense(2, activation='softmax'))\n",
    "    \n",
    "    # Compile with focal loss approximation (class weights)\n",
    "    model.compile(\n",
    "        optimizer=keras.optimizers.Adam(learning_rate=learning_rate),\n",
    "        loss='sparse_categorical_crossentropy',\n",
    "        metrics=['accuracy']\n",
    "    )\n",
    "    \n",
    "    return model"
   ]
  },
  {
   "cell_type": "markdown",
   "metadata": {},
   "source": [
    "**3. Define all pipelines to be used during training**\n",
    "\n",
    "Let's define which ML pipelines to use during training, by configuring which pre-processing operations and models will be used in the training process. Pipelines also help avoid data leakage by ensuring that feature transformation is applied only to the training dataset portion.          \n",
    "\n",
    "For feature transformation, the standard scaler was used to ensure the best scale for feature values. By normalizing all values to a common metric, it reduces bias toward feature magnitude and enables subsequent operations to capture important patterns between features without being influenced mainly by their magnitude. All features contribute equally to pattern detection. This is especially important in finance because the difference between feature scales can be significant.\n",
    "\n",
    "For feature dimensionality reduction, Principal Component Analysis (PCA) was used to reduce from 166 to only 59 features. We aim to reduce feature dimensionality while maximizing the dissimilarity of the original dataset, thus extracting the most discriminative features and improving model training performance. It must be applied after the standard scaler to avoid the mentioned magnitude bias, and should be used in datasets that have a large quantity of features."
   ]
  },
  {
   "cell_type": "code",
   "execution_count": 34,
   "metadata": {},
   "outputs": [],
   "source": [
    "# Creating the pipelines\n",
    "pipelines = []\n",
    "std  = ('std', StandardScaler())  # Standardization\n",
    "\n",
    "# Defining the pipelines, for future experimentation \n",
    "pipelines.append(('LR', Pipeline([std, ('pca', PCA(n_components=n_pca_components)), reg])))  \n",
    "pipelines.append(('NB', Pipeline([std, ('pca', PCA(n_components=n_pca_components)), nav])))  \n",
    "pipelines.append(('KNN', Pipeline([std, ('pca', PCA(n_components=n_pca_components)), knn])))\n",
    "pipelines.append(('CART', Pipeline([std, ('pca', PCA(n_components=n_pca_components)), cart])))\n",
    "pipelines.append(('SVM', Pipeline([std, ('pca', PCA(n_components=n_pca_components)), svm])))\n",
    "pipelines.append(('Bag', Pipeline([std, ('pca', PCA(n_components=n_pca_components)), bagging])))\n",
    "pipelines.append(('RF', Pipeline([std, ('pca', PCA(n_components=n_pca_components)), forest])))\n",
    "pipelines.append(('ET', Pipeline([std, ('pca', PCA(n_components=n_pca_components)), extra])))\n",
    "pipelines.append(('Ada', Pipeline([std, ('pca', PCA(n_components=n_pca_components)), ada])))\n",
    "pipelines.append(('GB', Pipeline([std, ('pca', PCA(n_components=n_pca_components)), gradient])))\n",
    "\n",
    "# ENSEMBLE: SVM + KNN Voting Soft\n",
    "voting_soft = ('Vote-Soft', Pipeline([\n",
    "    std, \n",
    "    ('pca', PCA(n_components=n_pca_components)),\n",
    "    ('voting', VotingClassifier(\n",
    "        estimators=[\n",
    "            ('svm', SVC(probability=True)),  # Enable probability for soft voting\n",
    "            ('knn', KNeighborsClassifier())\n",
    "        ],\n",
    "        voting='soft',\n",
    "        weights=[0.6, 0.4]  # Weight SVM higher (better performer)\n",
    "    ))\n",
    "]))\n",
    "\n",
    "# ENSEMBLE: SVM + KNN Voting Hard\n",
    "voting_hard = ('Vote-Hard', Pipeline([\n",
    "    std,\n",
    "    ('pca', PCA(n_components=n_pca_components)),\n",
    "    ('voting', VotingClassifier(\n",
    "        estimators=[\n",
    "            ('svm', SVC()),\n",
    "            ('knn', KNeighborsClassifier())\n",
    "        ],\n",
    "        voting='hard'\n",
    "    ))\n",
    "]))\n",
    "\n",
    "# ENSEMBLE: SVM + KNN Stacking\n",
    "stacking = ('Stack', Pipeline([\n",
    "    std,\n",
    "    ('pca', PCA(n_components=n_pca_components)),\n",
    "    ('stacking', StackingClassifier(\n",
    "        estimators=[\n",
    "            ('svm', SVC(probability=True)),\n",
    "            ('knn', KNeighborsClassifier())\n",
    "        ],\n",
    "        final_estimator=LogisticRegression(),  # Meta-learner\n",
    "        cv=5,\n",
    "        passthrough=False  # Only use base predictions, not original features\n",
    "    ))\n",
    "]))\n",
    "\n",
    "pipelines.append(voting_soft)\n",
    "pipelines.append(voting_hard)\n",
    "pipelines.append(stacking)\n",
    "\n",
    "# ENSEMBLE: Bagging with SVM base estimator\n",
    "bag_svm = ('Bag-SVM', Pipeline([\n",
    "    std,\n",
    "    ('pca', PCA(n_components=n_pca_components)),\n",
    "    ('bagging', BaggingClassifier(\n",
    "        estimator=SVC(probability=True),\n",
    "        n_estimators=10,\n",
    "        max_samples=0.8,\n",
    "        max_features=0.8,\n",
    "        bootstrap=True,\n",
    "        random_state=random_seed\n",
    "    ))\n",
    "]))\n",
    "\n",
    "# ENSEMBLE: Bagging with KNN base estimator\n",
    "bag_knn = ('Bag-KNN', Pipeline([\n",
    "    std,\n",
    "    ('pca', PCA(n_components=n_pca_components)),\n",
    "    ('bagging', BaggingClassifier(\n",
    "        estimator=KNeighborsClassifier(),\n",
    "        n_estimators=10,\n",
    "        max_samples=0.8,\n",
    "        max_features=0.8,\n",
    "        bootstrap=True,\n",
    "        random_state=random_seed\n",
    "    ))\n",
    "]))\n",
    "\n",
    "\n",
    "pipelines.append(bag_svm)\n",
    "pipelines.append(bag_knn)\n",
    "\n",
    "# XGBoost: Extreme Gradient Boosting\n",
    "xgboost = ('XGB', Pipeline([\n",
    "    std,\n",
    "    ('pca', PCA(n_components=n_pca_components)),\n",
    "    ('xgb', xgb.XGBClassifier(\n",
    "        n_estimators=500,\n",
    "        max_depth=7,\n",
    "        learning_rate=0.1,\n",
    "        scale_pos_weight=9.25,  # For 9:1 class imbalance\n",
    "        tree_method='hist',\n",
    "        random_state=random_seed,\n",
    "        verbosity=0\n",
    "    ))\n",
    "]))\n",
    "\n",
    "pipelines.append(xgboost)\n",
    "\n",
    "# LightGBM: Light Gradient Boosting Machine\n",
    "lightgbm = ('LGB', Pipeline([\n",
    "    std,\n",
    "    ('pca', PCA(n_components=n_pca_components)),\n",
    "    ('lgb', lgb.LGBMClassifier(\n",
    "        n_estimators=500,\n",
    "        num_leaves=127,\n",
    "        max_depth=7,\n",
    "        learning_rate=0.1,\n",
    "        class_weight='balanced',  # For class imbalance\n",
    "        random_state=random_seed,\n",
    "        verbose=-1\n",
    "    ))\n",
    "]))\n",
    "\n",
    "pipelines.append(lightgbm)\n",
    "\n",
    "# CatBoost: Categorical Boosting\n",
    "catboost = ('CAT', Pipeline([\n",
    "    std,\n",
    "    ('pca', PCA(n_components=n_pca_components)),\n",
    "    ('cat', cb.CatBoostClassifier(\n",
    "        iterations=500,\n",
    "        depth=8,\n",
    "        learning_rate=0.1,\n",
    "        auto_class_weights='Balanced',  # For class imbalance\n",
    "        random_seed=random_seed,\n",
    "        verbose=False\n",
    "    ))\n",
    "]))\n",
    "\n",
    "pipelines.append(catboost)\n",
    "\n",
    "# TabNet: Attention-based deep learning for tabular data\n",
    "tabnet = ('TabNet', Pipeline([\n",
    "    ('quantile', QuantileTransformer(n_quantiles=100, output_distribution='normal')),\n",
    "    ('tabnet', TabNetClassifier(\n",
    "        n_d=64,\n",
    "        n_a=64,\n",
    "        n_steps=5,\n",
    "        gamma=1.5,\n",
    "        lambda_sparse=1e-4,\n",
    "        optimizer_fn=torch.optim.Adam,\n",
    "        optimizer_params=dict(lr=0.02),\n",
    "        scheduler_params={\"step_size\": 50, \"gamma\": 0.9},\n",
    "        scheduler_fn=torch.optim.lr_scheduler.StepLR,\n",
    "        mask_type='sparsemax',\n",
    "        verbose=0,\n",
    "        seed=random_seed\n",
    "    ))\n",
    "]))\n",
    "\n",
    "pipelines.append(tabnet)\n",
    "\n",
    "\n",
    "# Feedforward NN: Deep neural network with batch normalization\n",
    "feedforward_nn = ('FNN', Pipeline([\n",
    "    std,\n",
    "    ('pca', PCA(n_components=n_pca_components)),\n",
    "    ('fnn', KerasClassifier(\n",
    "        model=create_feedforward_nn,\n",
    "        input_dim=59,  # Post-PCA dimension\n",
    "        hidden_dims=[128, 64],\n",
    "        dropout=0.3,\n",
    "        learning_rate=0.001,\n",
    "        epochs=100,\n",
    "        batch_size=256,\n",
    "        verbose=0\n",
    "    ))\n",
    "]))\n",
    "\n",
    "pipelines.append(feedforward_nn)"
   ]
  },
  {
   "cell_type": "markdown",
   "metadata": {},
   "source": [
    "**4. Define model parameter distributions for a grid search approach**\n",
    "\n",
    "Let's prepare the parameter distributions for a random grid search, by using a distribution of possible parameter values, so that the training phase can explore the best performance models also from the perspective of their hyperparameters. This is a better solution than the common grid search approach because it can explore a broader hyperparameter space and is often faster. \n",
    "\n",
    "Three types of parameter distributions were used:\n",
    "\n",
    "- uniform: Continuous values with equal probability across a range, used when all values in the range are equally valid;\n",
    "- loguniform: Continuous values on logarithmic scale (exponential distribution), used when smaller values are often better;\n",
    "- randint: Discrete integer values with equal probability, used for discrete hyperparameters."
   ]
  },
  {
   "cell_type": "code",
   "execution_count": 35,
   "metadata": {},
   "outputs": [],
   "source": [
    "# Define parameter distributions using Optuna trial lambdas\n",
    "# Enhanced with comprehensive documentation\n",
    "# Optimized for financial/cryptocurrency transaction risk classification\n",
    "\n",
    "# Note: KerasClassifier (scikeras) and TabNetClassifier automatically handle label encoding\n",
    "# String labels ('1', '2') are converted to integers (0, 1) internally\n",
    "\n",
    "param_distributions = {\n",
    "    'LR': {\n",
    "        'pca__n_components': lambda trial: trial.suggest_float('pca__n_components', 0.90, 0.99),\n",
    "        'pca__whiten': lambda trial: trial.suggest_categorical('pca__whiten', [True, False]),\n",
    "        'pca__svd_solver': lambda trial: trial.suggest_categorical('pca__svd_solver', ['auto', 'full']),\n",
    "        'LR__C': lambda trial: trial.suggest_float('LR__C', 1e-4, 1e2, log=True),\n",
    "        'LR__solver': lambda trial: trial.suggest_categorical('LR__solver', ['lbfgs', 'newton-cg', 'sag', 'saga']),\n",
    "        'LR__penalty': lambda trial: trial.suggest_categorical('LR__penalty', ['l2', None]),\n",
    "        'LR__max_iter': lambda trial: trial.suggest_categorical('LR__max_iter', [1000, 2000, 5000]),\n",
    "        'LR__tol': lambda trial: trial.suggest_float('LR__tol', 1e-6, 1e-3, log=True)\n",
    "    },\n",
    "\n",
    "    'KNN': {\n",
    "        'pca__n_components': lambda trial: trial.suggest_float('pca__n_components', 0.90, 0.99),\n",
    "        'pca__whiten': lambda trial: trial.suggest_categorical('pca__whiten', [True, False]),\n",
    "        'pca__svd_solver': lambda trial: trial.suggest_categorical('pca__svd_solver', ['auto', 'full']),\n",
    "        'KNN__n_neighbors': lambda trial: trial.suggest_int('KNN__n_neighbors', 3, 20),\n",
    "        'KNN__weights': lambda trial: trial.suggest_categorical('KNN__weights', ['uniform', 'distance']),\n",
    "        'KNN__metric': lambda trial: trial.suggest_categorical('KNN__metric', ['euclidean', 'manhattan', 'minkowski']),\n",
    "        'KNN__p': lambda trial: trial.suggest_int('KNN__p', 1, 2)\n",
    "    },\n",
    "\n",
    "    'CART': {\n",
    "        'pca__n_components': lambda trial: trial.suggest_float('pca__n_components', 0.90, 0.99),\n",
    "        'pca__whiten': lambda trial: trial.suggest_categorical('pca__whiten', [True, False]),\n",
    "        'pca__svd_solver': lambda trial: trial.suggest_categorical('pca__svd_solver', ['auto', 'full']),\n",
    "        'CART__max_depth': lambda trial: trial.suggest_int('CART__max_depth', 3, 19),\n",
    "        'CART__min_samples_split': lambda trial: trial.suggest_int('CART__min_samples_split', 10, 49),\n",
    "        'CART__min_samples_leaf': lambda trial: trial.suggest_int('CART__min_samples_leaf', 5, 19),\n",
    "        'CART__criterion': lambda trial: trial.suggest_categorical('CART__criterion', ['gini', 'entropy'])\n",
    "    },\n",
    "\n",
    "    'NB': {\n",
    "        'pca__n_components': lambda trial: trial.suggest_float('pca__n_components', 0.90, 0.99),\n",
    "        'pca__whiten': lambda trial: trial.suggest_categorical('pca__whiten', [True, False]),\n",
    "        'pca__svd_solver': lambda trial: trial.suggest_categorical('pca__svd_solver', ['auto', 'full']),\n",
    "        'NB__var_smoothing': lambda trial: trial.suggest_float('NB__var_smoothing', 1e-12, 1e-6, log=True),\n",
    "        'NB__priors': lambda trial: trial.suggest_categorical('NB__priors', [None])\n",
    "    },\n",
    "\n",
    "    'SVM': {\n",
    "        'pca__n_components': lambda trial: trial.suggest_float('pca__n_components', 0.90, 0.99),\n",
    "        'pca__whiten': lambda trial: trial.suggest_categorical('pca__whiten', [True, False]),\n",
    "        'pca__svd_solver': lambda trial: trial.suggest_categorical('pca__svd_solver', ['auto', 'full']),\n",
    "        'SVM__C': lambda trial: trial.suggest_float('SVM__C', 1e-2, 1e3, log=True),\n",
    "        'SVM__kernel': lambda trial: trial.suggest_categorical('SVM__kernel', ['rbf', 'poly', 'sigmoid']),\n",
    "        'SVM__gamma': lambda trial: trial.suggest_categorical('SVM__gamma', ['scale', 'auto'])\n",
    "    },\n",
    "\n",
    "    'RF': {\n",
    "        'pca__n_components': lambda trial: trial.suggest_float('pca__n_components', 0.90, 0.99),\n",
    "        'pca__whiten': lambda trial: trial.suggest_categorical('pca__whiten', [True, False]),\n",
    "        'pca__svd_solver': lambda trial: trial.suggest_categorical('pca__svd_solver', ['auto', 'full']),\n",
    "        'RF__n_estimators': lambda trial: trial.suggest_int('RF__n_estimators', 100, 499),\n",
    "        'RF__max_depth': lambda trial: trial.suggest_int('RF__max_depth', 10, 24),\n",
    "        'RF__min_samples_split': lambda trial: trial.suggest_int('RF__min_samples_split', 5, 19),\n",
    "        'RF__min_samples_leaf': lambda trial: trial.suggest_int('RF__min_samples_leaf', 2, 9),\n",
    "        'RF__max_features': lambda trial: trial.suggest_categorical('RF__max_features', ['sqrt', 'log2', None]),\n",
    "        'RF__bootstrap': lambda trial: trial.suggest_categorical('RF__bootstrap', [True, False])\n",
    "    },\n",
    "\n",
    "    'ET': {\n",
    "        'pca__n_components': lambda trial: trial.suggest_float('pca__n_components', 0.90, 0.99),\n",
    "        'pca__whiten': lambda trial: trial.suggest_categorical('pca__whiten', [True, False]),\n",
    "        'pca__svd_solver': lambda trial: trial.suggest_categorical('pca__svd_solver', ['auto', 'full']),\n",
    "        'ET__n_estimators': lambda trial: trial.suggest_int('ET__n_estimators', 100, 499),\n",
    "        'ET__max_depth': lambda trial: trial.suggest_int('ET__max_depth', 10, 24),\n",
    "        'ET__min_samples_split': lambda trial: trial.suggest_int('ET__min_samples_split', 5, 19),\n",
    "        'ET__min_samples_leaf': lambda trial: trial.suggest_int('ET__min_samples_leaf', 2, 9),\n",
    "        'ET__max_features': lambda trial: trial.suggest_categorical('ET__max_features', ['sqrt', 'log2', None]),\n",
    "        'ET__bootstrap': lambda trial: trial.suggest_categorical('ET__bootstrap', [True, False])\n",
    "    },\n",
    "\n",
    "    'GB': {\n",
    "        'pca__n_components': lambda trial: trial.suggest_float('pca__n_components', 0.90, 0.99),\n",
    "        'pca__whiten': lambda trial: trial.suggest_categorical('pca__whiten', [True, False]),\n",
    "        'pca__svd_solver': lambda trial: trial.suggest_categorical('pca__svd_solver', ['auto', 'full']),\n",
    "        'GB__n_estimators': lambda trial: trial.suggest_int('GB__n_estimators', 100, 299),\n",
    "        'GB__learning_rate': lambda trial: trial.suggest_float('GB__learning_rate', 1e-2, 3e-1, log=True),\n",
    "        'GB__max_depth': lambda trial: trial.suggest_int('GB__max_depth', 3, 7),\n",
    "        'GB__subsample': lambda trial: trial.suggest_float('GB__subsample', 0.7, 0.9)\n",
    "    },\n",
    "\n",
    "    'Ada': {\n",
    "        'pca__n_components': lambda trial: trial.suggest_float('pca__n_components', 0.90, 0.99),\n",
    "        'pca__whiten': lambda trial: trial.suggest_categorical('pca__whiten', [True, False]),\n",
    "        'pca__svd_solver': lambda trial: trial.suggest_categorical('pca__svd_solver', ['auto', 'full']),\n",
    "        'Ada__n_estimators': lambda trial: trial.suggest_int('Ada__n_estimators', 50, 199),\n",
    "        'Ada__learning_rate': lambda trial: trial.suggest_float('Ada__learning_rate', 0.5, 1.5),\n",
    "        'Ada__algorithm': lambda trial: trial.suggest_categorical('Ada__algorithm', ['SAMME'])\n",
    "    },\n",
    "\n",
    "    'Bag': {\n",
    "        'pca__n_components': lambda trial: trial.suggest_float('pca__n_components', 0.90, 0.99),\n",
    "        'pca__whiten': lambda trial: trial.suggest_categorical('pca__whiten', [True, False]),\n",
    "        'pca__svd_solver': lambda trial: trial.suggest_categorical('pca__svd_solver', ['auto', 'full']),\n",
    "        'Bag__n_estimators': lambda trial: trial.suggest_int('Bag__n_estimators', 50, 199),\n",
    "        'Bag__max_samples': lambda trial: trial.suggest_float('Bag__max_samples', 0.6, 0.9),\n",
    "        'Bag__max_features': lambda trial: trial.suggest_float('Bag__max_features', 0.7, 1.0)\n",
    "    },\n",
    "    \n",
    "    'Vote-Soft': {\n",
    "        'pca__n_components': lambda trial: trial.suggest_float('pca__n_components', 0.90, 0.99),\n",
    "        'pca__whiten': lambda trial: trial.suggest_categorical('pca__whiten', [True, False]),\n",
    "        'pca__svd_solver': lambda trial: trial.suggest_categorical('pca__svd_solver', ['auto', 'full']),\n",
    "        'voting__svm__C': lambda trial: trial.suggest_float('voting__svm__C', 1e-2, 1e3, log=True),\n",
    "        'voting__svm__kernel': lambda trial: trial.suggest_categorical('voting__svm__kernel', ['rbf', 'poly']),\n",
    "        'voting__svm__gamma': lambda trial: trial.suggest_categorical('voting__svm__gamma', ['scale', 'auto']),\n",
    "        'voting__knn__n_neighbors': lambda trial: trial.suggest_int('voting__knn__n_neighbors', 3, 20),\n",
    "        'voting__knn__weights': lambda trial: trial.suggest_categorical('voting__knn__weights', ['uniform', 'distance']),\n",
    "        'voting__knn__metric': lambda trial: trial.suggest_categorical('voting__knn__metric', ['euclidean', 'manhattan']),\n",
    "        'voting__weights': lambda trial: trial.suggest_categorical('voting__weights', [[0.7, 0.3], [0.6, 0.4], [0.5, 0.5], [0.8, 0.2]])\n",
    "    },\n",
    "    \n",
    "    'Vote-Hard': {\n",
    "        'pca__n_components': lambda trial: trial.suggest_float('pca__n_components', 0.90, 0.99),\n",
    "        'pca__whiten': lambda trial: trial.suggest_categorical('pca__whiten', [True, False]),\n",
    "        'pca__svd_solver': lambda trial: trial.suggest_categorical('pca__svd_solver', ['auto', 'full']),\n",
    "        'voting__svm__C': lambda trial: trial.suggest_float('voting__svm__C', 1e-2, 1e3, log=True),\n",
    "        'voting__svm__kernel': lambda trial: trial.suggest_categorical('voting__svm__kernel', ['rbf', 'poly']),\n",
    "        'voting__svm__gamma': lambda trial: trial.suggest_categorical('voting__svm__gamma', ['scale', 'auto']),\n",
    "        'voting__knn__n_neighbors': lambda trial: trial.suggest_int('voting__knn__n_neighbors', 3, 20),\n",
    "        'voting__knn__weights': lambda trial: trial.suggest_categorical('voting__knn__weights', ['uniform', 'distance']),\n",
    "        'voting__knn__metric': lambda trial: trial.suggest_categorical('voting__knn__metric', ['euclidean', 'manhattan'])\n",
    "    },\n",
    "    \n",
    "    'Stack': {\n",
    "        'pca__n_components': lambda trial: trial.suggest_float('pca__n_components', 0.90, 0.99),\n",
    "        'pca__whiten': lambda trial: trial.suggest_categorical('pca__whiten', [True, False]),\n",
    "        'pca__svd_solver': lambda trial: trial.suggest_categorical('pca__svd_solver', ['auto', 'full']),\n",
    "        'stacking__svm__C': lambda trial: trial.suggest_float('stacking__svm__C', 1e-2, 1e3, log=True),\n",
    "        'stacking__svm__kernel': lambda trial: trial.suggest_categorical('stacking__svm__kernel', ['rbf', 'poly']),\n",
    "        'stacking__svm__gamma': lambda trial: trial.suggest_categorical('stacking__svm__gamma', ['scale', 'auto']),\n",
    "        'stacking__knn__n_neighbors': lambda trial: trial.suggest_int('stacking__knn__n_neighbors', 3, 20),\n",
    "        'stacking__knn__weights': lambda trial: trial.suggest_categorical('stacking__knn__weights', ['uniform', 'distance']),\n",
    "        'stacking__knn__metric': lambda trial: trial.suggest_categorical('stacking__knn__metric', ['euclidean', 'manhattan']),\n",
    "        'stacking__final_estimator__C': lambda trial: trial.suggest_float('stacking__final_estimator__C', 1e-4, 1e2, log=True),\n",
    "        'stacking__final_estimator__solver': lambda trial: trial.suggest_categorical('stacking__final_estimator__solver', ['lbfgs', 'saga']),\n",
    "        'stacking__final_estimator__max_iter': lambda trial: trial.suggest_categorical('stacking__final_estimator__max_iter', [1000, 2000])\n",
    "    },\n",
    "    \n",
    "    'Bag-SVM': {\n",
    "        'pca__n_components': lambda trial: trial.suggest_float('pca__n_components', 0.90, 0.99),\n",
    "        'pca__whiten': lambda trial: trial.suggest_categorical('pca__whiten', [True, False]),\n",
    "        'pca__svd_solver': lambda trial: trial.suggest_categorical('pca__svd_solver', ['auto', 'full']),\n",
    "        'bagging__estimator__C': lambda trial: trial.suggest_float('bagging__estimator__C', 1e-2, 1e3, log=True),\n",
    "        'bagging__estimator__kernel': lambda trial: trial.suggest_categorical('bagging__estimator__kernel', ['rbf', 'poly', 'linear']),\n",
    "        'bagging__estimator__gamma': lambda trial: trial.suggest_categorical('bagging__estimator__gamma', ['scale', 'auto']),\n",
    "        'bagging__n_estimators': lambda trial: trial.suggest_int('bagging__n_estimators', 10, 99),\n",
    "        'bagging__max_samples': lambda trial: trial.suggest_float('bagging__max_samples', 0.5, 0.9),\n",
    "        'bagging__max_features': lambda trial: trial.suggest_float('bagging__max_features', 0.5, 0.9),\n",
    "        'bagging__bootstrap': lambda trial: trial.suggest_categorical('bagging__bootstrap', [True, False])\n",
    "    },\n",
    "    \n",
    "    'Bag-KNN': {\n",
    "        'pca__n_components': lambda trial: trial.suggest_float('pca__n_components', 0.90, 0.99),\n",
    "        'pca__whiten': lambda trial: trial.suggest_categorical('pca__whiten', [True, False]),\n",
    "        'pca__svd_solver': lambda trial: trial.suggest_categorical('pca__svd_solver', ['auto', 'full']),\n",
    "        'bagging__estimator__n_neighbors': lambda trial: trial.suggest_int('bagging__estimator__n_neighbors', 3, 20),\n",
    "        'bagging__estimator__weights': lambda trial: trial.suggest_categorical('bagging__estimator__weights', ['uniform', 'distance']),\n",
    "        'bagging__estimator__metric': lambda trial: trial.suggest_categorical('bagging__estimator__metric', ['euclidean', 'manhattan', 'minkowski']),\n",
    "        'bagging__n_estimators': lambda trial: trial.suggest_int('bagging__n_estimators', 10, 99),\n",
    "        'bagging__max_samples': lambda trial: trial.suggest_float('bagging__max_samples', 0.5, 0.9),\n",
    "        'bagging__max_features': lambda trial: trial.suggest_float('bagging__max_features', 0.5, 0.9),\n",
    "        'bagging__bootstrap': lambda trial: trial.suggest_categorical('bagging__bootstrap', [True, False])\n",
    "    },\n",
    "\n",
    "    'XGB': {\n",
    "        'pca__n_components': lambda trial: trial.suggest_float('pca__n_components', 0.90, 0.99),\n",
    "        'pca__whiten': lambda trial: trial.suggest_categorical('pca__whiten', [True, False]),\n",
    "        'pca__svd_solver': lambda trial: trial.suggest_categorical('pca__svd_solver', ['auto', 'full']),\n",
    "        'xgb__n_estimators': lambda trial: trial.suggest_int('xgb__n_estimators', 100, 1000),\n",
    "        'xgb__max_depth': lambda trial: trial.suggest_int('xgb__max_depth', 3, 9),\n",
    "        'xgb__learning_rate': lambda trial: trial.suggest_float('xgb__learning_rate', 0.01, 0.3, log=True),\n",
    "        'xgb__min_child_weight': lambda trial: trial.suggest_int('xgb__min_child_weight', 1, 7),\n",
    "        'xgb__gamma': lambda trial: trial.suggest_float('xgb__gamma', 0, 0.5),\n",
    "        'xgb__subsample': lambda trial: trial.suggest_float('xgb__subsample', 0.6, 1.0),\n",
    "        'xgb__colsample_bytree': lambda trial: trial.suggest_float('xgb__colsample_bytree', 0.6, 1.0),\n",
    "        'xgb__scale_pos_weight': lambda trial: trial.suggest_float('xgb__scale_pos_weight', 1, 20),\n",
    "        'xgb__reg_alpha': lambda trial: trial.suggest_float('xgb__reg_alpha', 0, 10),\n",
    "        'xgb__reg_lambda': lambda trial: trial.suggest_float('xgb__reg_lambda', 1, 100)\n",
    "    },\n",
    "\n",
    "    'LGB': {\n",
    "        'pca__n_components': lambda trial: trial.suggest_float('pca__n_components', 0.90, 0.99),\n",
    "        'pca__whiten': lambda trial: trial.suggest_categorical('pca__whiten', [True, False]),\n",
    "        'pca__svd_solver': lambda trial: trial.suggest_categorical('pca__svd_solver', ['auto', 'full']),\n",
    "        'lgb__n_estimators': lambda trial: trial.suggest_int('lgb__n_estimators', 100, 1000),\n",
    "        'lgb__num_leaves': lambda trial: trial.suggest_int('lgb__num_leaves', 31, 255),\n",
    "        'lgb__max_depth': lambda trial: trial.suggest_int('lgb__max_depth', 3, 9),\n",
    "        'lgb__learning_rate': lambda trial: trial.suggest_float('lgb__learning_rate', 0.01, 0.3, log=True),\n",
    "        'lgb__min_child_samples': lambda trial: trial.suggest_int('lgb__min_child_samples', 5, 30),\n",
    "        'lgb__subsample': lambda trial: trial.suggest_float('lgb__subsample', 0.6, 1.0),\n",
    "        'lgb__colsample_bytree': lambda trial: trial.suggest_float('lgb__colsample_bytree', 0.6, 1.0),\n",
    "        'lgb__reg_alpha': lambda trial: trial.suggest_float('lgb__reg_alpha', 0, 1),\n",
    "        'lgb__reg_lambda': lambda trial: trial.suggest_float('lgb__reg_lambda', 0, 1)\n",
    "    },\n",
    "\n",
    "    'CAT': {\n",
    "        'pca__n_components': lambda trial: trial.suggest_float('pca__n_components', 0.90, 0.99),\n",
    "        'pca__whiten': lambda trial: trial.suggest_categorical('pca__whiten', [True, False]),\n",
    "        'pca__svd_solver': lambda trial: trial.suggest_categorical('pca__svd_solver', ['auto', 'full']),\n",
    "        'cat__iterations': lambda trial: trial.suggest_int('cat__iterations', 100, 1000),\n",
    "        'cat__depth': lambda trial: trial.suggest_int('cat__depth', 4, 10),\n",
    "        'cat__learning_rate': lambda trial: trial.suggest_float('cat__learning_rate', 0.01, 0.3, log=True),\n",
    "        'cat__l2_leaf_reg': lambda trial: trial.suggest_int('cat__l2_leaf_reg', 1, 9),\n",
    "        'cat__border_count': lambda trial: trial.suggest_categorical('cat__border_count', [32, 64, 128, 255]),\n",
    "        'cat__bagging_temperature': lambda trial: trial.suggest_float('cat__bagging_temperature', 0, 1),\n",
    "        'cat__random_strength': lambda trial: trial.suggest_float('cat__random_strength', 0, 2)\n",
    "    },\n",
    "    \n",
    "    'TabNet': {\n",
    "        # TabNet-specific hyperparameters\n",
    "        'tabnet__n_d': lambda trial: trial.suggest_categorical('tabnet__n_d', [8, 16, 32, 64]),\n",
    "        'tabnet__n_a': lambda trial: trial.suggest_categorical('tabnet__n_a', [8, 16, 32, 64]),\n",
    "        'tabnet__n_steps': lambda trial: trial.suggest_int('tabnet__n_steps', 3, 7),\n",
    "        'tabnet__gamma': lambda trial: trial.suggest_float('tabnet__gamma', 1.0, 2.0),\n",
    "        'tabnet__lambda_sparse': lambda trial: trial.suggest_float('tabnet__lambda_sparse', 1e-6, 1e-3, log=True),\n",
    "        'tabnet__mask_type': lambda trial: trial.suggest_categorical('tabnet__mask_type', ['sparsemax', 'entmax']),\n",
    "    },\n",
    "\n",
    "    'FNN': {\n",
    "        # PCA hyperparameters\n",
    "        'pca__n_components': lambda trial: trial.suggest_float('pca__n_components', 0.90, 0.99),\n",
    "        'pca__whiten': lambda trial: trial.suggest_categorical('pca__whiten', [True, False]),\n",
    "        'pca__svd_solver': lambda trial: trial.suggest_categorical('pca__svd_solver', ['auto', 'full']),\n",
    "        # Neural network architecture\n",
    "        'fnn__hidden_dims': lambda trial: trial.suggest_categorical(\n",
    "            'fnn__hidden_dims',\n",
    "            [[128, 64], [256, 128], [512, 256, 128], [128, 64, 32]]\n",
    "        ),\n",
    "        # Regularization\n",
    "        'fnn__dropout': lambda trial: trial.suggest_float('fnn__dropout', 0.1, 0.5),\n",
    "        # Optimizer\n",
    "        'fnn__learning_rate': lambda trial: trial.suggest_float('fnn__learning_rate', 1e-4, 1e-2, log=True),\n",
    "        # Training\n",
    "        'fnn__epochs': lambda trial: trial.suggest_int('fnn__epochs', 50, 200),\n",
    "        'fnn__batch_size': lambda trial: trial.suggest_categorical('fnn__batch_size', [128, 256, 512])\n",
    "    }\n",
    "}"
   ]
  },
  {
   "cell_type": "markdown",
   "metadata": {},
   "source": [
    "**5. Define the score function and the objective function to be used during training**\n",
    "\n",
    "Let's define the score function that will be used to measure each model's performance. Instead of using just one metric alone, the function enables us to define a weighted multi-metric approach, defining which metrics would be more important for the model's performance. The chosen score is a combination of three important metrics: \n",
    "\n",
    "- Recall measures how good the model is at not having false negatives;\n",
    "- Precision measures how good the model is at not having false positives;  \n",
    "- Accuracy measures how good the model is at not having false classifications;\n",
    "\n",
    "In financial transaction risk assessments, it is more important to have fewer false negatives than false positive classifications, because it would be less risky to block a transaction wrongly considered illicit than to not block a transaction wrongly considered licit."
   ]
  },
  {
   "cell_type": "code",
   "execution_count": 36,
   "metadata": {},
   "outputs": [],
   "source": [
    "def create_objective(model_name, pipeline, param_dist, X_train, y_train, cv, scorer):\n",
    "    \"\"\"Create Optuna objective function for hyperparameter optimization\"\"\"\n",
    "    def objective(trial):\n",
    "        # Get parameter suggestions by calling lambdas with trial\n",
    "        params = {}\n",
    "        for param_name, suggest_fn in param_dist[model_name].items():\n",
    "            params[param_name] = suggest_fn(trial)\n",
    "        \n",
    "        # Set pipeline parameters\n",
    "        pipeline.set_params(**params)\n",
    "        \n",
    "        # Perform cross-validation\n",
    "        scores = cross_val_score(pipeline, X_train, y_train, cv=cv, scoring=scorer, n_jobs=1)\n",
    "        \n",
    "        # Return mean score\n",
    "        return scores.mean()\n",
    "    \n",
    "    return objective\n",
    "\n",
    "\n",
    "def aml_score(y_true, y_pred):\n",
    "    \"\"\"\n",
    "    Competition-grade metric for imbalanced fraud detection.\n",
    "    \n",
    "    Combines:\n",
    "    - MCC (Matthews Correlation Coefficient): Handles class imbalance\n",
    "    - Cost-sensitive scoring: Explicitly penalizes false positives\n",
    "    \n",
    "    Args:\n",
    "        y_true: True labels (0=licit, 1=illicit)\n",
    "        y_pred: Predicted labels (0=licit, 1=illicit)\n",
    "    \n",
    "    Returns:\n",
    "        float: Composite score (0-1 range, higher is better)\n",
    "    \"\"\"\n",
    "    # MCC: Handles imbalance naturally\n",
    "    mcc = matthews_corrcoef(y_true, y_pred)\n",
    "    \n",
    "    # Cost-sensitive component\n",
    "    tn, fp, fn, tp = confusion_matrix(y_true, y_pred).ravel()\n",
    "    \n",
    "    # Business costs (adjust based on regulatory requirements)\n",
    "    cost_fp = 1    # Cost of blocking legitimate transaction (your priority!)\n",
    "    cost_fn = 10   # Cost of missing illicit transaction (regulatory risk)\n",
    "    \n",
    "    total_cost = (fp * cost_fp) + (fn * cost_fn)\n",
    "    max_cost = len(y_true) * cost_fn\n",
    "    cost_score = 1 - (total_cost / max_cost)\n",
    "    \n",
    "    # Weighted combination: 60% MCC + 40% cost minimization\n",
    "    return 0.4 * mcc + 0.6 * cost_score\n",
    "\n",
    "# Update scorer\n",
    "composite_scorer = make_scorer(aml_score)"
   ]
  },
  {
   "cell_type": "markdown",
   "metadata": {},
   "source": [
    "**6. Execute the training** [CAN BE SKIPPED ~ 2h]\n",
    "\n",
    "Let's execute the training phase using random grid search and execute it in parallel, with cross-validation of all dataset splits (folds) and rank the best models by score function.\n",
    "\n",
    "The final plot will display all model training samples with their mean and variance performance during training."
   ]
  },
  {
   "cell_type": "code",
   "execution_count": null,
   "metadata": {},
   "outputs": [
    {
     "name": "stdout",
     "output_type": "stream",
     "text": [
      "🔍 Training Models with Optuna Bayesian Optimization...\n",
      "Training 20 models with 2 trials each\n",
      "------------------------------------------------------------\n",
      "Training LR... ✅ 0.8618 (±0.0108)\n",
      "Training NB... ✅ 0.5550 (±0.0111)\n",
      "Training KNN... ✅ 0.8985 (±0.0012)\n",
      "Training CART... ✅ 0.8938 (±0.0034)\n",
      "Training SVM... ✅ 0.9168 (±0.0010)\n",
      "Training Bag... ✅ 0.9291 (±0.0022)\n",
      "Training RF... ✅ 0.9233 (±0.0002)\n",
      "Training ET... ✅ 0.9016 (±0.0006)\n",
      "Training Ada... ✅ 0.8879 (±0.0042)\n",
      "Training GB... ✅ 0.9337 (±0.0012)\n",
      "Training Vote-Soft... ✅ 0.9299 (±0.0010)\n",
      "Training Vote-Hard... ✅ 0.8949 (±0.0000)\n",
      "Training Stack... ✅ 0.9168 (±0.0019)\n",
      "Training Bag-SVM... ✅ 0.9093 (±0.0016)\n",
      "Training Bag-KNN... ✅ 0.9167 (±0.0014)\n",
      "Training XGB... ✅ 0.9363 (±0.0001)\n",
      "Training LGB... ✅ 0.9405 (±0.0014)\n",
      "Training CAT... ✅ 0.9395 (±0.0003)\n",
      "Training TabNet... ✅ 0.9591 (±0.0009)\n",
      "Training FNN... ✅ 0.9482 (±0.0022)\n"
     ]
    },
    {
     "data": {
      "image/png": "[encoded data removed]",
      "text/plain": [
       "<Figure size 2500x600 with 1 Axes>"
      ]
     },
     "metadata": {},
     "output_type": "display_data"
    }
   ],
   "source": [
    "# Training parameters\n",
    "n_trials = 2  # PARAMETER: Number of Optuna trials per model\n",
    "n_jobs = 1    # PARAMETER: Use all available cores\n",
    "\n",
    "# Create result collections\n",
    "training_models = []\n",
    "cv_results_all = []  # Store all CV scores for boxplot\n",
    "study_results = {}   # Store Optuna studies for analysis\n",
    "\n",
    "print(\"🔍 Training Models with Optuna Bayesian Optimization...\")\n",
    "print(f\"Training {len(pipelines)} models with {n_trials} trials each\")\n",
    "print(\"-\" * 60)\n",
    "\n",
    "for name, pipe in pipelines:\n",
    "    print(f\"Training {name}...\", end=\" \", flush=True)\n",
    "    \n",
    "    # Create Optuna study with TPE sampler\n",
    "    study = optuna.create_study(\n",
    "        direction='maximize',\n",
    "        sampler=TPESampler(seed=random_seed)\n",
    "    )\n",
    "    \n",
    "    # Create objective function\n",
    "    objective = create_objective(\n",
    "        model_name=name,\n",
    "        pipeline=pipe,\n",
    "        param_dist=param_distributions,\n",
    "        X_train=X_train,\n",
    "        y_train=y_train,\n",
    "        cv=cv,\n",
    "        scorer=composite_scorer\n",
    "    )\n",
    "    \n",
    "    # Optimize\n",
    "    study.optimize(objective, n_trials=n_trials, show_progress_bar=False)\n",
    "    \n",
    "    # Extract best parameters and set them\n",
    "    best_params = study.best_params\n",
    "    pipe.set_params(**best_params)\n",
    "    \n",
    "    # Get CV scores for evaluation (doesn't fit the original pipe!)\n",
    "    cv_scores = cross_val_score(pipe, X_train, y_train, cv=cv, scoring=composite_scorer, n_jobs=n_jobs)\n",
    "    cv_results_all.append(cv_scores)\n",
    "    \n",
    "    # Explicitly fit pipeline on full training set to avoid NotFittedError\n",
    "    pipe.fit(X_train, y_train)\n",
    "    \n",
    "    best_score = study.best_value\n",
    "    std_score = cv_scores.std()\n",
    "    \n",
    "    print(f\"✅ {best_score:.4f} (±{std_score:.4f})\")\n",
    "    \n",
    "    training_models.append((name, pipe))\n",
    "    study_results[name] = study\n",
    "\n",
    "# Create boxplot with individual CV fold scores\n",
    "fig = plt.figure(figsize=(25,6))\n",
    "fig.suptitle('Trained Models Comparison - CV Score Distribution (Optuna Optimization)') \n",
    "ax = fig.add_subplot(111) \n",
    "plt.boxplot(cv_results_all, labels=[name for name, _ in training_models])\n",
    "ax.set_ylabel('Cross-Validation F1 Score')\n",
    "ax.tick_params(axis='x', rotation=45)\n",
    "plt.show()\n",
    "\n",
    "optimized_models = training_models.copy()"
   ]
  },
  {
   "cell_type": "markdown",
   "metadata": {},
   "source": [
    "**Optuna Optimization Analysis**\n",
    "\n",
    "Visualize Optuna optimization history and parameter importance for each model."
   ]
  },
  {
   "cell_type": "code",
   "execution_count": 38,
   "metadata": {},
   "outputs": [
    {
     "name": "stdout",
     "output_type": "stream",
     "text": [
      "📊 Optuna Optimization Analysis for Top 3 Models\n",
      "------------------------------------------------------------\n",
      "\n",
      "TabNet - Best Score: 0.9591\n",
      "Best Parameters: {'tabnet__n_d': 16, 'tabnet__n_a': 32, 'tabnet__n_steps': 5, 'tabnet__gamma': 1.1761771281245694, 'tabnet__lambda_sparse': 0.00010994048924701591, 'tabnet__mask_type': 'sparsemax'}\n"
     ]
    },
    {
     "data": {
      "application/vnd.plotly.v1+json": {
       "config": {
        "plotlyServerURL": "https://plot.ly"
       },
       "data": [
        {
         "mode": "markers",
         "name": "Objective Value",
         "type": "scatter",
         "x": [
          0,
          1
         ],
         "y": [
          0.9591385156316083,
          0.9540156027822897
         ]
        },
        {
         "mode": "lines",
         "name": "Best Value",
         "type": "scatter",
         "x": [
          0,
          1
         ],
         "y": [
          0.9591385156316083,
          0.9591385156316083
         ]
        },
        {
         "marker": {
          "color": "#cccccc"
         },
         "mode": "markers",
         "name": "Infeasible Trial",
         "showlegend": false,
         "type": "scatter",
         "x": [],
         "y": []
        }
       ],
       "layout": {
        "template": {
         "data": {
          "bar": [
           {
            "error_x": {
             "color": "#2a3f5f"
            },
            "error_y": {
             "color": "#2a3f5f"
            },
            "marker": {
             "line": {
              "color": "#E5ECF6",
              "width": 0.5
             },
             "pattern": {
              "fillmode": "overlay",
              "size": 10,
              "solidity": 0.2
             }
            },
            "type": "bar"
           }
          ],
          "barpolar": [
           {
            "marker": {
             "line": {
              "color": "#E5ECF6",
              "width": 0.5
             },
             "pattern": {
              "fillmode": "overlay",
              "size": 10,
              "solidity": 0.2
             }
            },
            "type": "barpolar"
           }
          ],
          "carpet": [
           {
            "aaxis": {
             "endlinecolor": "#2a3f5f",
             "gridcolor": "white",
             "linecolor": "white",
             "minorgridcolor": "white",
             "startlinecolor": "#2a3f5f"
            },
            "baxis": {
             "endlinecolor": "#2a3f5f",
             "gridcolor": "white",
             "linecolor": "white",
             "minorgridcolor": "white",
             "startlinecolor": "#2a3f5f"
            },
            "type": "carpet"
           }
          ],
          "choropleth": [
           {
            "colorbar": {
             "outlinewidth": 0,
             "ticks": ""
            },
            "type": "choropleth"
           }
          ],
          "contour": [
           {
            "colorbar": {
             "outlinewidth": 0,
             "ticks": ""
            },
            "colorscale": [
             [
              0,
              "#0d0887"
             ],
             [
              0.1111111111111111,
              "#46039f"
             ],
             [
              0.2222222222222222,
              "#7201a8"
             ],
             [
              0.3333333333333333,
              "#9c179e"
             ],
             [
              0.4444444444444444,
              "#bd3786"
             ],
             [
              0.5555555555555556,
              "#d8576b"
             ],
             [
              0.6666666666666666,
              "#ed7953"
             ],
             [
              0.7777777777777778,
              "#fb9f3a"
             ],
             [
              0.8888888888888888,
              "#fdca26"
             ],
             [
              1,
              "#f0f921"
             ]
            ],
            "type": "contour"
           }
          ],
          "contourcarpet": [
           {
            "colorbar": {
             "outlinewidth": 0,
             "ticks": ""
            },
            "type": "contourcarpet"
           }
          ],
          "heatmap": [
           {
            "colorbar": {
             "outlinewidth": 0,
             "ticks": ""
            },
            "colorscale": [
             [
              0,
              "#0d0887"
             ],
             [
              0.1111111111111111,
              "#46039f"
             ],
             [
              0.2222222222222222,
              "#7201a8"
             ],
             [
              0.3333333333333333,
              "#9c179e"
             ],
             [
              0.4444444444444444,
              "#bd3786"
             ],
             [
              0.5555555555555556,
              "#d8576b"
             ],
             [
              0.6666666666666666,
              "#ed7953"
             ],
             [
              0.7777777777777778,
              "#fb9f3a"
             ],
             [
              0.8888888888888888,
              "#fdca26"
             ],
             [
              1,
              "#f0f921"
             ]
            ],
            "type": "heatmap"
           }
          ],
          "histogram": [
           {
            "marker": {
             "pattern": {
              "fillmode": "overlay",
              "size": 10,
              "solidity": 0.2
             }
            },
            "type": "histogram"
           }
          ],
          "histogram2d": [
           {
            "colorbar": {
             "outlinewidth": 0,
             "ticks": ""
            },
            "colorscale": [
             [
              0,
              "#0d0887"
             ],
             [
              0.1111111111111111,
              "#46039f"
             ],
             [
              0.2222222222222222,
              "#7201a8"
             ],
             [
              0.3333333333333333,
              "#9c179e"
             ],
             [
              0.4444444444444444,
              "#bd3786"
             ],
             [
              0.5555555555555556,
              "#d8576b"
             ],
             [
              0.6666666666666666,
              "#ed7953"
             ],
             [
              0.7777777777777778,
              "#fb9f3a"
             ],
             [
              0.8888888888888888,
              "#fdca26"
             ],
             [
              1,
              "#f0f921"
             ]
            ],
            "type": "histogram2d"
           }
          ],
          "histogram2dcontour": [
           {
            "colorbar": {
             "outlinewidth": 0,
             "ticks": ""
            },
            "colorscale": [
             [
              0,
              "#0d0887"
             ],
             [
              0.1111111111111111,
              "#46039f"
             ],
             [
              0.2222222222222222,
              "#7201a8"
             ],
             [
              0.3333333333333333,
              "#9c179e"
             ],
             [
              0.4444444444444444,
              "#bd3786"
             ],
             [
              0.5555555555555556,
              "#d8576b"
             ],
             [
              0.6666666666666666,
              "#ed7953"
             ],
             [
              0.7777777777777778,
              "#fb9f3a"
             ],
             [
              0.8888888888888888,
              "#fdca26"
             ],
             [
              1,
              "#f0f921"
             ]
            ],
            "type": "histogram2dcontour"
           }
          ],
          "mesh3d": [
           {
            "colorbar": {
             "outlinewidth": 0,
             "ticks": ""
            },
            "type": "mesh3d"
           }
          ],
          "parcoords": [
           {
            "line": {
             "colorbar": {
              "outlinewidth": 0,
              "ticks": ""
             }
            },
            "type": "parcoords"
           }
          ],
          "pie": [
           {
            "automargin": true,
            "type": "pie"
           }
          ],
          "scatter": [
           {
            "fillpattern": {
             "fillmode": "overlay",
             "size": 10,
             "solidity": 0.2
            },
            "type": "scatter"
           }
          ],
          "scatter3d": [
           {
            "line": {
             "colorbar": {
              "outlinewidth": 0,
              "ticks": ""
             }
            },
            "marker": {
             "colorbar": {
              "outlinewidth": 0,
              "ticks": ""
             }
            },
            "type": "scatter3d"
           }
          ],
          "scattercarpet": [
           {
            "marker": {
             "colorbar": {
              "outlinewidth": 0,
              "ticks": ""
             }
            },
            "type": "scattercarpet"
           }
          ],
          "scattergeo": [
           {
            "marker": {
             "colorbar": {
              "outlinewidth": 0,
              "ticks": ""
             }
            },
            "type": "scattergeo"
           }
          ],
          "scattergl": [
           {
            "marker": {
             "colorbar": {
              "outlinewidth": 0,
              "ticks": ""
             }
            },
            "type": "scattergl"
           }
          ],
          "scattermap": [
           {
            "marker": {
             "colorbar": {
              "outlinewidth": 0,
              "ticks": ""
             }
            },
            "type": "scattermap"
           }
          ],
          "scattermapbox": [
           {
            "marker": {
             "colorbar": {
              "outlinewidth": 0,
              "ticks": ""
             }
            },
            "type": "scattermapbox"
           }
          ],
          "scatterpolar": [
           {
            "marker": {
             "colorbar": {
              "outlinewidth": 0,
              "ticks": ""
             }
            },
            "type": "scatterpolar"
           }
          ],
          "scatterpolargl": [
           {
            "marker": {
             "colorbar": {
              "outlinewidth": 0,
              "ticks": ""
             }
            },
            "type": "scatterpolargl"
           }
          ],
          "scatterternary": [
           {
            "marker": {
             "colorbar": {
              "outlinewidth": 0,
              "ticks": ""
             }
            },
            "type": "scatterternary"
           }
          ],
          "surface": [
           {
            "colorbar": {
             "outlinewidth": 0,
             "ticks": ""
            },
            "colorscale": [
             [
              0,
              "#0d0887"
             ],
             [
              0.1111111111111111,
              "#46039f"
             ],
             [
              0.2222222222222222,
              "#7201a8"
             ],
             [
              0.3333333333333333,
              "#9c179e"
             ],
             [
              0.4444444444444444,
              "#bd3786"
             ],
             [
              0.5555555555555556,
              "#d8576b"
             ],
             [
              0.6666666666666666,
              "#ed7953"
             ],
             [
              0.7777777777777778,
              "#fb9f3a"
             ],
             [
              0.8888888888888888,
              "#fdca26"
             ],
             [
              1,
              "#f0f921"
             ]
            ],
            "type": "surface"
           }
          ],
          "table": [
           {
            "cells": {
             "fill": {
              "color": "#EBF0F8"
             },
             "line": {
              "color": "white"
             }
            },
            "header": {
             "fill": {
              "color": "#C8D4E3"
             },
             "line": {
              "color": "white"
             }
            },
            "type": "table"
           }
          ]
         },
         "layout": {
          "annotationdefaults": {
           "arrowcolor": "#2a3f5f",
           "arrowhead": 0,
           "arrowwidth": 1
          },
          "autotypenumbers": "strict",
          "coloraxis": {
           "colorbar": {
            "outlinewidth": 0,
            "ticks": ""
           }
          },
          "colorscale": {
           "diverging": [
            [
             0,
             "#8e0152"
            ],
            [
             0.1,
             "#c51b7d"
            ],
            [
             0.2,
             "#de77ae"
            ],
            [
             0.3,
             "#f1b6da"
            ],
            [
             0.4,
             "#fde0ef"
            ],
            [
             0.5,
             "#f7f7f7"
            ],
            [
             0.6,
             "#e6f5d0"
            ],
            [
             0.7,
             "#b8e186"
            ],
            [
             0.8,
             "#7fbc41"
            ],
            [
             0.9,
             "#4d9221"
            ],
            [
             1,
             "#276419"
            ]
           ],
           "sequential": [
            [
             0,
             "#0d0887"
            ],
            [
             0.1111111111111111,
             "#46039f"
            ],
            [
             0.2222222222222222,
             "#7201a8"
            ],
            [
             0.3333333333333333,
             "#9c179e"
            ],
            [
             0.4444444444444444,
             "#bd3786"
            ],
            [
             0.5555555555555556,
             "#d8576b"
            ],
            [
             0.6666666666666666,
             "#ed7953"
            ],
            [
             0.7777777777777778,
             "#fb9f3a"
            ],
            [
             0.8888888888888888,
             "#fdca26"
            ],
            [
             1,
             "#f0f921"
            ]
           ],
           "sequentialminus": [
            [
             0,
             "#0d0887"
            ],
            [
             0.1111111111111111,
             "#46039f"
            ],
            [
             0.2222222222222222,
             "#7201a8"
            ],
            [
             0.3333333333333333,
             "#9c179e"
            ],
            [
             0.4444444444444444,
             "#bd3786"
            ],
            [
             0.5555555555555556,
             "#d8576b"
            ],
            [
             0.6666666666666666,
             "#ed7953"
            ],
            [
             0.7777777777777778,
             "#fb9f3a"
            ],
            [
             0.8888888888888888,
             "#fdca26"
            ],
            [
             1,
             "#f0f921"
            ]
           ]
          },
          "colorway": [
           "#636efa",
           "#EF553B",
           "#00cc96",
           "#ab63fa",
           "#FFA15A",
           "#19d3f3",
           "#FF6692",
           "#B6E880",
           "#FF97FF",
           "#FECB52"
          ],
          "font": {
           "color": "#2a3f5f"
          },
          "geo": {
           "bgcolor": "white",
           "lakecolor": "white",
           "landcolor": "#E5ECF6",
           "showlakes": true,
           "showland": true,
           "subunitcolor": "white"
          },
          "hoverlabel": {
           "align": "left"
          },
          "hovermode": "closest",
          "mapbox": {
           "style": "light"
          },
          "paper_bgcolor": "white",
          "plot_bgcolor": "#E5ECF6",
          "polar": {
           "angularaxis": {
            "gridcolor": "white",
            "linecolor": "white",
            "ticks": ""
           },
           "bgcolor": "#E5ECF6",
           "radialaxis": {
            "gridcolor": "white",
            "linecolor": "white",
            "ticks": ""
           }
          },
          "scene": {
           "xaxis": {
            "backgroundcolor": "#E5ECF6",
            "gridcolor": "white",
            "gridwidth": 2,
            "linecolor": "white",
            "showbackground": true,
            "ticks": "",
            "zerolinecolor": "white"
           },
           "yaxis": {
            "backgroundcolor": "#E5ECF6",
            "gridcolor": "white",
            "gridwidth": 2,
            "linecolor": "white",
            "showbackground": true,
            "ticks": "",
            "zerolinecolor": "white"
           },
           "zaxis": {
            "backgroundcolor": "#E5ECF6",
            "gridcolor": "white",
            "gridwidth": 2,
            "linecolor": "white",
            "showbackground": true,
            "ticks": "",
            "zerolinecolor": "white"
           }
          },
          "shapedefaults": {
           "line": {
            "color": "#2a3f5f"
           }
          },
          "ternary": {
           "aaxis": {
            "gridcolor": "white",
            "linecolor": "white",
            "ticks": ""
           },
           "baxis": {
            "gridcolor": "white",
            "linecolor": "white",
            "ticks": ""
           },
           "bgcolor": "#E5ECF6",
           "caxis": {
            "gridcolor": "white",
            "linecolor": "white",
            "ticks": ""
           }
          },
          "title": {
           "x": 0.05
          },
          "xaxis": {
           "automargin": true,
           "gridcolor": "white",
           "linecolor": "white",
           "ticks": "",
           "title": {
            "standoff": 15
           },
           "zerolinecolor": "white",
           "zerolinewidth": 2
          },
          "yaxis": {
           "automargin": true,
           "gridcolor": "white",
           "linecolor": "white",
           "ticks": "",
           "title": {
            "standoff": 15
           },
           "zerolinecolor": "white",
           "zerolinewidth": 2
          }
         }
        },
        "title": {
         "text": "TabNet - Optimization History"
        },
        "xaxis": {
         "title": {
          "text": "Trial"
         }
        },
        "yaxis": {
         "title": {
          "text": "Objective Value"
         }
        }
       }
      }
     },
     "metadata": {},
     "output_type": "display_data"
    },
    {
     "data": {
      "application/vnd.plotly.v1+json": {
       "config": {
        "plotlyServerURL": "https://plot.ly"
       },
       "data": [
        {
         "cliponaxis": false,
         "hovertemplate": [
          "tabnet__mask_type (CategoricalDistribution): 0.0<extra></extra>",
          "tabnet__n_steps (IntDistribution): 0.058823529411764705<extra></extra>",
          "tabnet__gamma (FloatDistribution): 0.08823529411764706<extra></extra>",
          "tabnet__lambda_sparse (FloatDistribution): 0.11764705882352941<extra></extra>",
          "tabnet__n_a (CategoricalDistribution): 0.3235294117647059<extra></extra>",
          "tabnet__n_d (CategoricalDistribution): 0.4117647058823529<extra></extra>"
         ],
         "name": "Objective Value",
         "orientation": "h",
         "text": [
          "<0.01",
          "0.06",
          "0.09",
          "0.12",
          "0.32",
          "0.41"
         ],
         "textposition": "outside",
         "type": "bar",
         "x": [
          0,
          0.058823529411764705,
          0.08823529411764706,
          0.11764705882352941,
          0.3235294117647059,
          0.4117647058823529
         ],
         "y": [
          "tabnet__mask_type",
          "tabnet__n_steps",
          "tabnet__gamma",
          "tabnet__lambda_sparse",
          "tabnet__n_a",
          "tabnet__n_d"
         ]
        }
       ],
       "layout": {
        "template": {
         "data": {
          "bar": [
           {
            "error_x": {
             "color": "#2a3f5f"
            },
            "error_y": {
             "color": "#2a3f5f"
            },
            "marker": {
             "line": {
              "color": "#E5ECF6",
              "width": 0.5
             },
             "pattern": {
              "fillmode": "overlay",
              "size": 10,
              "solidity": 0.2
             }
            },
            "type": "bar"
           }
          ],
          "barpolar": [
           {
            "marker": {
             "line": {
              "color": "#E5ECF6",
              "width": 0.5
             },
             "pattern": {
              "fillmode": "overlay",
              "size": 10,
              "solidity": 0.2
             }
            },
            "type": "barpolar"
           }
          ],
          "carpet": [
           {
            "aaxis": {
             "endlinecolor": "#2a3f5f",
             "gridcolor": "white",
             "linecolor": "white",
             "minorgridcolor": "white",
             "startlinecolor": "#2a3f5f"
            },
            "baxis": {
             "endlinecolor": "#2a3f5f",
             "gridcolor": "white",
             "linecolor": "white",
             "minorgridcolor": "white",
             "startlinecolor": "#2a3f5f"
            },
            "type": "carpet"
           }
          ],
          "choropleth": [
           {
            "colorbar": {
             "outlinewidth": 0,
             "ticks": ""
            },
            "type": "choropleth"
           }
          ],
          "contour": [
           {
            "colorbar": {
             "outlinewidth": 0,
             "ticks": ""
            },
            "colorscale": [
             [
              0,
              "#0d0887"
             ],
             [
              0.1111111111111111,
              "#46039f"
             ],
             [
              0.2222222222222222,
              "#7201a8"
             ],
             [
              0.3333333333333333,
              "#9c179e"
             ],
             [
              0.4444444444444444,
              "#bd3786"
             ],
             [
              0.5555555555555556,
              "#d8576b"
             ],
             [
              0.6666666666666666,
              "#ed7953"
             ],
             [
              0.7777777777777778,
              "#fb9f3a"
             ],
             [
              0.8888888888888888,
              "#fdca26"
             ],
             [
              1,
              "#f0f921"
             ]
            ],
            "type": "contour"
           }
          ],
          "contourcarpet": [
           {
            "colorbar": {
             "outlinewidth": 0,
             "ticks": ""
            },
            "type": "contourcarpet"
           }
          ],
          "heatmap": [
           {
            "colorbar": {
             "outlinewidth": 0,
             "ticks": ""
            },
            "colorscale": [
             [
              0,
              "#0d0887"
             ],
             [
              0.1111111111111111,
              "#46039f"
             ],
             [
              0.2222222222222222,
              "#7201a8"
             ],
             [
              0.3333333333333333,
              "#9c179e"
             ],
             [
              0.4444444444444444,
              "#bd3786"
             ],
             [
              0.5555555555555556,
              "#d8576b"
             ],
             [
              0.6666666666666666,
              "#ed7953"
             ],
             [
              0.7777777777777778,
              "#fb9f3a"
             ],
             [
              0.8888888888888888,
              "#fdca26"
             ],
             [
              1,
              "#f0f921"
             ]
            ],
            "type": "heatmap"
           }
          ],
          "histogram": [
           {
            "marker": {
             "pattern": {
              "fillmode": "overlay",
              "size": 10,
              "solidity": 0.2
             }
            },
            "type": "histogram"
           }
          ],
          "histogram2d": [
           {
            "colorbar": {
             "outlinewidth": 0,
             "ticks": ""
            },
            "colorscale": [
             [
              0,
              "#0d0887"
             ],
             [
              0.1111111111111111,
              "#46039f"
             ],
             [
              0.2222222222222222,
              "#7201a8"
             ],
             [
              0.3333333333333333,
              "#9c179e"
             ],
             [
              0.4444444444444444,
              "#bd3786"
             ],
             [
              0.5555555555555556,
              "#d8576b"
             ],
             [
              0.6666666666666666,
              "#ed7953"
             ],
             [
              0.7777777777777778,
              "#fb9f3a"
             ],
             [
              0.8888888888888888,
              "#fdca26"
             ],
             [
              1,
              "#f0f921"
             ]
            ],
            "type": "histogram2d"
           }
          ],
          "histogram2dcontour": [
           {
            "colorbar": {
             "outlinewidth": 0,
             "ticks": ""
            },
            "colorscale": [
             [
              0,
              "#0d0887"
             ],
             [
              0.1111111111111111,
              "#46039f"
             ],
             [
              0.2222222222222222,
              "#7201a8"
             ],
             [
              0.3333333333333333,
              "#9c179e"
             ],
             [
              0.4444444444444444,
              "#bd3786"
             ],
             [
              0.5555555555555556,
              "#d8576b"
             ],
             [
              0.6666666666666666,
              "#ed7953"
             ],
             [
              0.7777777777777778,
              "#fb9f3a"
             ],
             [
              0.8888888888888888,
              "#fdca26"
             ],
             [
              1,
              "#f0f921"
             ]
            ],
            "type": "histogram2dcontour"
           }
          ],
          "mesh3d": [
           {
            "colorbar": {
             "outlinewidth": 0,
             "ticks": ""
            },
            "type": "mesh3d"
           }
          ],
          "parcoords": [
           {
            "line": {
             "colorbar": {
              "outlinewidth": 0,
              "ticks": ""
             }
            },
            "type": "parcoords"
           }
          ],
          "pie": [
           {
            "automargin": true,
            "type": "pie"
           }
          ],
          "scatter": [
           {
            "fillpattern": {
             "fillmode": "overlay",
             "size": 10,
             "solidity": 0.2
            },
            "type": "scatter"
           }
          ],
          "scatter3d": [
           {
            "line": {
             "colorbar": {
              "outlinewidth": 0,
              "ticks": ""
             }
            },
            "marker": {
             "colorbar": {
              "outlinewidth": 0,
              "ticks": ""
             }
            },
            "type": "scatter3d"
           }
          ],
          "scattercarpet": [
           {
            "marker": {
             "colorbar": {
              "outlinewidth": 0,
              "ticks": ""
             }
            },
            "type": "scattercarpet"
           }
          ],
          "scattergeo": [
           {
            "marker": {
             "colorbar": {
              "outlinewidth": 0,
              "ticks": ""
             }
            },
            "type": "scattergeo"
           }
          ],
          "scattergl": [
           {
            "marker": {
             "colorbar": {
              "outlinewidth": 0,
              "ticks": ""
             }
            },
            "type": "scattergl"
           }
          ],
          "scattermap": [
           {
            "marker": {
             "colorbar": {
              "outlinewidth": 0,
              "ticks": ""
             }
            },
            "type": "scattermap"
           }
          ],
          "scattermapbox": [
           {
            "marker": {
             "colorbar": {
              "outlinewidth": 0,
              "ticks": ""
             }
            },
            "type": "scattermapbox"
           }
          ],
          "scatterpolar": [
           {
            "marker": {
             "colorbar": {
              "outlinewidth": 0,
              "ticks": ""
             }
            },
            "type": "scatterpolar"
           }
          ],
          "scatterpolargl": [
           {
            "marker": {
             "colorbar": {
              "outlinewidth": 0,
              "ticks": ""
             }
            },
            "type": "scatterpolargl"
           }
          ],
          "scatterternary": [
           {
            "marker": {
             "colorbar": {
              "outlinewidth": 0,
              "ticks": ""
             }
            },
            "type": "scatterternary"
           }
          ],
          "surface": [
           {
            "colorbar": {
             "outlinewidth": 0,
             "ticks": ""
            },
            "colorscale": [
             [
              0,
              "#0d0887"
             ],
             [
              0.1111111111111111,
              "#46039f"
             ],
             [
              0.2222222222222222,
              "#7201a8"
             ],
             [
              0.3333333333333333,
              "#9c179e"
             ],
             [
              0.4444444444444444,
              "#bd3786"
             ],
             [
              0.5555555555555556,
              "#d8576b"
             ],
             [
              0.6666666666666666,
              "#ed7953"
             ],
             [
              0.7777777777777778,
              "#fb9f3a"
             ],
             [
              0.8888888888888888,
              "#fdca26"
             ],
             [
              1,
              "#f0f921"
             ]
            ],
            "type": "surface"
           }
          ],
          "table": [
           {
            "cells": {
             "fill": {
              "color": "#EBF0F8"
             },
             "line": {
              "color": "white"
             }
            },
            "header": {
             "fill": {
              "color": "#C8D4E3"
             },
             "line": {
              "color": "white"
             }
            },
            "type": "table"
           }
          ]
         },
         "layout": {
          "annotationdefaults": {
           "arrowcolor": "#2a3f5f",
           "arrowhead": 0,
           "arrowwidth": 1
          },
          "autotypenumbers": "strict",
          "coloraxis": {
           "colorbar": {
            "outlinewidth": 0,
            "ticks": ""
           }
          },
          "colorscale": {
           "diverging": [
            [
             0,
             "#8e0152"
            ],
            [
             0.1,
             "#c51b7d"
            ],
            [
             0.2,
             "#de77ae"
            ],
            [
             0.3,
             "#f1b6da"
            ],
            [
             0.4,
             "#fde0ef"
            ],
            [
             0.5,
             "#f7f7f7"
            ],
            [
             0.6,
             "#e6f5d0"
            ],
            [
             0.7,
             "#b8e186"
            ],
            [
             0.8,
             "#7fbc41"
            ],
            [
             0.9,
             "#4d9221"
            ],
            [
             1,
             "#276419"
            ]
           ],
           "sequential": [
            [
             0,
             "#0d0887"
            ],
            [
             0.1111111111111111,
             "#46039f"
            ],
            [
             0.2222222222222222,
             "#7201a8"
            ],
            [
             0.3333333333333333,
             "#9c179e"
            ],
            [
             0.4444444444444444,
             "#bd3786"
            ],
            [
             0.5555555555555556,
             "#d8576b"
            ],
            [
             0.6666666666666666,
             "#ed7953"
            ],
            [
             0.7777777777777778,
             "#fb9f3a"
            ],
            [
             0.8888888888888888,
             "#fdca26"
            ],
            [
             1,
             "#f0f921"
            ]
           ],
           "sequentialminus": [
            [
             0,
             "#0d0887"
            ],
            [
             0.1111111111111111,
             "#46039f"
            ],
            [
             0.2222222222222222,
             "#7201a8"
            ],
            [
             0.3333333333333333,
             "#9c179e"
            ],
            [
             0.4444444444444444,
             "#bd3786"
            ],
            [
             0.5555555555555556,
             "#d8576b"
            ],
            [
             0.6666666666666666,
             "#ed7953"
            ],
            [
             0.7777777777777778,
             "#fb9f3a"
            ],
            [
             0.8888888888888888,
             "#fdca26"
            ],
            [
             1,
             "#f0f921"
            ]
           ]
          },
          "colorway": [
           "#636efa",
           "#EF553B",
           "#00cc96",
           "#ab63fa",
           "#FFA15A",
           "#19d3f3",
           "#FF6692",
           "#B6E880",
           "#FF97FF",
           "#FECB52"
          ],
          "font": {
           "color": "#2a3f5f"
          },
          "geo": {
           "bgcolor": "white",
           "lakecolor": "white",
           "landcolor": "#E5ECF6",
           "showlakes": true,
           "showland": true,
           "subunitcolor": "white"
          },
          "hoverlabel": {
           "align": "left"
          },
          "hovermode": "closest",
          "mapbox": {
           "style": "light"
          },
          "paper_bgcolor": "white",
          "plot_bgcolor": "#E5ECF6",
          "polar": {
           "angularaxis": {
            "gridcolor": "white",
            "linecolor": "white",
            "ticks": ""
           },
           "bgcolor": "#E5ECF6",
           "radialaxis": {
            "gridcolor": "white",
            "linecolor": "white",
            "ticks": ""
           }
          },
          "scene": {
           "xaxis": {
            "backgroundcolor": "#E5ECF6",
            "gridcolor": "white",
            "gridwidth": 2,
            "linecolor": "white",
            "showbackground": true,
            "ticks": "",
            "zerolinecolor": "white"
           },
           "yaxis": {
            "backgroundcolor": "#E5ECF6",
            "gridcolor": "white",
            "gridwidth": 2,
            "linecolor": "white",
            "showbackground": true,
            "ticks": "",
            "zerolinecolor": "white"
           },
           "zaxis": {
            "backgroundcolor": "#E5ECF6",
            "gridcolor": "white",
            "gridwidth": 2,
            "linecolor": "white",
            "showbackground": true,
            "ticks": "",
            "zerolinecolor": "white"
           }
          },
          "shapedefaults": {
           "line": {
            "color": "#2a3f5f"
           }
          },
          "ternary": {
           "aaxis": {
            "gridcolor": "white",
            "linecolor": "white",
            "ticks": ""
           },
           "baxis": {
            "gridcolor": "white",
            "linecolor": "white",
            "ticks": ""
           },
           "bgcolor": "#E5ECF6",
           "caxis": {
            "gridcolor": "white",
            "linecolor": "white",
            "ticks": ""
           }
          },
          "title": {
           "x": 0.05
          },
          "xaxis": {
           "automargin": true,
           "gridcolor": "white",
           "linecolor": "white",
           "ticks": "",
           "title": {
            "standoff": 15
           },
           "zerolinecolor": "white",
           "zerolinewidth": 2
          },
          "yaxis": {
           "automargin": true,
           "gridcolor": "white",
           "linecolor": "white",
           "ticks": "",
           "title": {
            "standoff": 15
           },
           "zerolinecolor": "white",
           "zerolinewidth": 2
          }
         }
        },
        "title": {
         "text": "TabNet - Parameter Importances"
        },
        "xaxis": {
         "title": {
          "text": "Hyperparameter Importance"
         }
        },
        "yaxis": {
         "title": {
          "text": "Hyperparameter"
         }
        }
       }
      }
     },
     "metadata": {},
     "output_type": "display_data"
    },
    {
     "name": "stdout",
     "output_type": "stream",
     "text": [
      "\n",
      "FNN - Best Score: 0.9482\n",
      "Best Parameters: {'pca__n_components': 0.917774245222722, 'pca__whiten': True, 'pca__svd_solver': 'auto', 'fnn__hidden_dims': [256, 128], 'fnn__dropout': 0.17047085124982778, 'fnn__learning_rate': 0.002294942331643662, 'fnn__epochs': 144, 'fnn__batch_size': 256}\n"
     ]
    },
    {
     "data": {
      "application/vnd.plotly.v1+json": {
       "config": {
        "plotlyServerURL": "https://plot.ly"
       },
       "data": [
        {
         "mode": "markers",
         "name": "Objective Value",
         "type": "scatter",
         "x": [
          0,
          1
         ],
         "y": [
          0.9481803984704081,
          0.9464305874833296
         ]
        },
        {
         "mode": "lines",
         "name": "Best Value",
         "type": "scatter",
         "x": [
          0,
          1
         ],
         "y": [
          0.9481803984704081,
          0.9481803984704081
         ]
        },
        {
         "marker": {
          "color": "#cccccc"
         },
         "mode": "markers",
         "name": "Infeasible Trial",
         "showlegend": false,
         "type": "scatter",
         "x": [],
         "y": []
        }
       ],
       "layout": {
        "template": {
         "data": {
          "bar": [
           {
            "error_x": {
             "color": "#2a3f5f"
            },
            "error_y": {
             "color": "#2a3f5f"
            },
            "marker": {
             "line": {
              "color": "#E5ECF6",
              "width": 0.5
             },
             "pattern": {
              "fillmode": "overlay",
              "size": 10,
              "solidity": 0.2
             }
            },
            "type": "bar"
           }
          ],
          "barpolar": [
           {
            "marker": {
             "line": {
              "color": "#E5ECF6",
              "width": 0.5
             },
             "pattern": {
              "fillmode": "overlay",
              "size": 10,
              "solidity": 0.2
             }
            },
            "type": "barpolar"
           }
          ],
          "carpet": [
           {
            "aaxis": {
             "endlinecolor": "#2a3f5f",
             "gridcolor": "white",
             "linecolor": "white",
             "minorgridcolor": "white",
             "startlinecolor": "#2a3f5f"
            },
            "baxis": {
             "endlinecolor": "#2a3f5f",
             "gridcolor": "white",
             "linecolor": "white",
             "minorgridcolor": "white",
             "startlinecolor": "#2a3f5f"
            },
            "type": "carpet"
           }
          ],
          "choropleth": [
           {
            "colorbar": {
             "outlinewidth": 0,
             "ticks": ""
            },
            "type": "choropleth"
           }
          ],
          "contour": [
           {
            "colorbar": {
             "outlinewidth": 0,
             "ticks": ""
            },
            "colorscale": [
             [
              0,
              "#0d0887"
             ],
             [
              0.1111111111111111,
              "#46039f"
             ],
             [
              0.2222222222222222,
              "#7201a8"
             ],
             [
              0.3333333333333333,
              "#9c179e"
             ],
             [
              0.4444444444444444,
              "#bd3786"
             ],
             [
              0.5555555555555556,
              "#d8576b"
             ],
             [
              0.6666666666666666,
              "#ed7953"
             ],
             [
              0.7777777777777778,
              "#fb9f3a"
             ],
             [
              0.8888888888888888,
              "#fdca26"
             ],
             [
              1,
              "#f0f921"
             ]
            ],
            "type": "contour"
           }
          ],
          "contourcarpet": [
           {
            "colorbar": {
             "outlinewidth": 0,
             "ticks": ""
            },
            "type": "contourcarpet"
           }
          ],
          "heatmap": [
           {
            "colorbar": {
             "outlinewidth": 0,
             "ticks": ""
            },
            "colorscale": [
             [
              0,
              "#0d0887"
             ],
             [
              0.1111111111111111,
              "#46039f"
             ],
             [
              0.2222222222222222,
              "#7201a8"
             ],
             [
              0.3333333333333333,
              "#9c179e"
             ],
             [
              0.4444444444444444,
              "#bd3786"
             ],
             [
              0.5555555555555556,
              "#d8576b"
             ],
             [
              0.6666666666666666,
              "#ed7953"
             ],
             [
              0.7777777777777778,
              "#fb9f3a"
             ],
             [
              0.8888888888888888,
              "#fdca26"
             ],
             [
              1,
              "#f0f921"
             ]
            ],
            "type": "heatmap"
           }
          ],
          "histogram": [
           {
            "marker": {
             "pattern": {
              "fillmode": "overlay",
              "size": 10,
              "solidity": 0.2
             }
            },
            "type": "histogram"
           }
          ],
          "histogram2d": [
           {
            "colorbar": {
             "outlinewidth": 0,
             "ticks": ""
            },
            "colorscale": [
             [
              0,
              "#0d0887"
             ],
             [
              0.1111111111111111,
              "#46039f"
             ],
             [
              0.2222222222222222,
              "#7201a8"
             ],
             [
              0.3333333333333333,
              "#9c179e"
             ],
             [
              0.4444444444444444,
              "#bd3786"
             ],
             [
              0.5555555555555556,
              "#d8576b"
             ],
             [
              0.6666666666666666,
              "#ed7953"
             ],
             [
              0.7777777777777778,
              "#fb9f3a"
             ],
             [
              0.8888888888888888,
              "#fdca26"
             ],
             [
              1,
              "#f0f921"
             ]
            ],
            "type": "histogram2d"
           }
          ],
          "histogram2dcontour": [
           {
            "colorbar": {
             "outlinewidth": 0,
             "ticks": ""
            },
            "colorscale": [
             [
              0,
              "#0d0887"
             ],
             [
              0.1111111111111111,
              "#46039f"
             ],
             [
              0.2222222222222222,
              "#7201a8"
             ],
             [
              0.3333333333333333,
              "#9c179e"
             ],
             [
              0.4444444444444444,
              "#bd3786"
             ],
             [
              0.5555555555555556,
              "#d8576b"
             ],
             [
              0.6666666666666666,
              "#ed7953"
             ],
             [
              0.7777777777777778,
              "#fb9f3a"
             ],
             [
              0.8888888888888888,
              "#fdca26"
             ],
             [
              1,
              "#f0f921"
             ]
            ],
            "type": "histogram2dcontour"
           }
          ],
          "mesh3d": [
           {
            "colorbar": {
             "outlinewidth": 0,
             "ticks": ""
            },
            "type": "mesh3d"
           }
          ],
          "parcoords": [
           {
            "line": {
             "colorbar": {
              "outlinewidth": 0,
              "ticks": ""
             }
            },
            "type": "parcoords"
           }
          ],
          "pie": [
           {
            "automargin": true,
            "type": "pie"
           }
          ],
          "scatter": [
           {
            "fillpattern": {
             "fillmode": "overlay",
             "size": 10,
             "solidity": 0.2
            },
            "type": "scatter"
           }
          ],
          "scatter3d": [
           {
            "line": {
             "colorbar": {
              "outlinewidth": 0,
              "ticks": ""
             }
            },
            "marker": {
             "colorbar": {
              "outlinewidth": 0,
              "ticks": ""
             }
            },
            "type": "scatter3d"
           }
          ],
          "scattercarpet": [
           {
            "marker": {
             "colorbar": {
              "outlinewidth": 0,
              "ticks": ""
             }
            },
            "type": "scattercarpet"
           }
          ],
          "scattergeo": [
           {
            "marker": {
             "colorbar": {
              "outlinewidth": 0,
              "ticks": ""
             }
            },
            "type": "scattergeo"
           }
          ],
          "scattergl": [
           {
            "marker": {
             "colorbar": {
              "outlinewidth": 0,
              "ticks": ""
             }
            },
            "type": "scattergl"
           }
          ],
          "scattermap": [
           {
            "marker": {
             "colorbar": {
              "outlinewidth": 0,
              "ticks": ""
             }
            },
            "type": "scattermap"
           }
          ],
          "scattermapbox": [
           {
            "marker": {
             "colorbar": {
              "outlinewidth": 0,
              "ticks": ""
             }
            },
            "type": "scattermapbox"
           }
          ],
          "scatterpolar": [
           {
            "marker": {
             "colorbar": {
              "outlinewidth": 0,
              "ticks": ""
             }
            },
            "type": "scatterpolar"
           }
          ],
          "scatterpolargl": [
           {
            "marker": {
             "colorbar": {
              "outlinewidth": 0,
              "ticks": ""
             }
            },
            "type": "scatterpolargl"
           }
          ],
          "scatterternary": [
           {
            "marker": {
             "colorbar": {
              "outlinewidth": 0,
              "ticks": ""
             }
            },
            "type": "scatterternary"
           }
          ],
          "surface": [
           {
            "colorbar": {
             "outlinewidth": 0,
             "ticks": ""
            },
            "colorscale": [
             [
              0,
              "#0d0887"
             ],
             [
              0.1111111111111111,
              "#46039f"
             ],
             [
              0.2222222222222222,
              "#7201a8"
             ],
             [
              0.3333333333333333,
              "#9c179e"
             ],
             [
              0.4444444444444444,
              "#bd3786"
             ],
             [
              0.5555555555555556,
              "#d8576b"
             ],
             [
              0.6666666666666666,
              "#ed7953"
             ],
             [
              0.7777777777777778,
              "#fb9f3a"
             ],
             [
              0.8888888888888888,
              "#fdca26"
             ],
             [
              1,
              "#f0f921"
             ]
            ],
            "type": "surface"
           }
          ],
          "table": [
           {
            "cells": {
             "fill": {
              "color": "#EBF0F8"
             },
             "line": {
              "color": "white"
             }
            },
            "header": {
             "fill": {
              "color": "#C8D4E3"
             },
             "line": {
              "color": "white"
             }
            },
            "type": "table"
           }
          ]
         },
         "layout": {
          "annotationdefaults": {
           "arrowcolor": "#2a3f5f",
           "arrowhead": 0,
           "arrowwidth": 1
          },
          "autotypenumbers": "strict",
          "coloraxis": {
           "colorbar": {
            "outlinewidth": 0,
            "ticks": ""
           }
          },
          "colorscale": {
           "diverging": [
            [
             0,
             "#8e0152"
            ],
            [
             0.1,
             "#c51b7d"
            ],
            [
             0.2,
             "#de77ae"
            ],
            [
             0.3,
             "#f1b6da"
            ],
            [
             0.4,
             "#fde0ef"
            ],
            [
             0.5,
             "#f7f7f7"
            ],
            [
             0.6,
             "#e6f5d0"
            ],
            [
             0.7,
             "#b8e186"
            ],
            [
             0.8,
             "#7fbc41"
            ],
            [
             0.9,
             "#4d9221"
            ],
            [
             1,
             "#276419"
            ]
           ],
           "sequential": [
            [
             0,
             "#0d0887"
            ],
            [
             0.1111111111111111,
             "#46039f"
            ],
            [
             0.2222222222222222,
             "#7201a8"
            ],
            [
             0.3333333333333333,
             "#9c179e"
            ],
            [
             0.4444444444444444,
             "#bd3786"
            ],
            [
             0.5555555555555556,
             "#d8576b"
            ],
            [
             0.6666666666666666,
             "#ed7953"
            ],
            [
             0.7777777777777778,
             "#fb9f3a"
            ],
            [
             0.8888888888888888,
             "#fdca26"
            ],
            [
             1,
             "#f0f921"
            ]
           ],
           "sequentialminus": [
            [
             0,
             "#0d0887"
            ],
            [
             0.1111111111111111,
             "#46039f"
            ],
            [
             0.2222222222222222,
             "#7201a8"
            ],
            [
             0.3333333333333333,
             "#9c179e"
            ],
            [
             0.4444444444444444,
             "#bd3786"
            ],
            [
             0.5555555555555556,
             "#d8576b"
            ],
            [
             0.6666666666666666,
             "#ed7953"
            ],
            [
             0.7777777777777778,
             "#fb9f3a"
            ],
            [
             0.8888888888888888,
             "#fdca26"
            ],
            [
             1,
             "#f0f921"
            ]
           ]
          },
          "colorway": [
           "#636efa",
           "#EF553B",
           "#00cc96",
           "#ab63fa",
           "#FFA15A",
           "#19d3f3",
           "#FF6692",
           "#B6E880",
           "#FF97FF",
           "#FECB52"
          ],
          "font": {
           "color": "#2a3f5f"
          },
          "geo": {
           "bgcolor": "white",
           "lakecolor": "white",
           "landcolor": "#E5ECF6",
           "showlakes": true,
           "showland": true,
           "subunitcolor": "white"
          },
          "hoverlabel": {
           "align": "left"
          },
          "hovermode": "closest",
          "mapbox": {
           "style": "light"
          },
          "paper_bgcolor": "white",
          "plot_bgcolor": "#E5ECF6",
          "polar": {
           "angularaxis": {
            "gridcolor": "white",
            "linecolor": "white",
            "ticks": ""
           },
           "bgcolor": "#E5ECF6",
           "radialaxis": {
            "gridcolor": "white",
            "linecolor": "white",
            "ticks": ""
           }
          },
          "scene": {
           "xaxis": {
            "backgroundcolor": "#E5ECF6",
            "gridcolor": "white",
            "gridwidth": 2,
            "linecolor": "white",
            "showbackground": true,
            "ticks": "",
            "zerolinecolor": "white"
           },
           "yaxis": {
            "backgroundcolor": "#E5ECF6",
            "gridcolor": "white",
            "gridwidth": 2,
            "linecolor": "white",
            "showbackground": true,
            "ticks": "",
            "zerolinecolor": "white"
           },
           "zaxis": {
            "backgroundcolor": "#E5ECF6",
            "gridcolor": "white",
            "gridwidth": 2,
            "linecolor": "white",
            "showbackground": true,
            "ticks": "",
            "zerolinecolor": "white"
           }
          },
          "shapedefaults": {
           "line": {
            "color": "#2a3f5f"
           }
          },
          "ternary": {
           "aaxis": {
            "gridcolor": "white",
            "linecolor": "white",
            "ticks": ""
           },
           "baxis": {
            "gridcolor": "white",
            "linecolor": "white",
            "ticks": ""
           },
           "bgcolor": "#E5ECF6",
           "caxis": {
            "gridcolor": "white",
            "linecolor": "white",
            "ticks": ""
           }
          },
          "title": {
           "x": 0.05
          },
          "xaxis": {
           "automargin": true,
           "gridcolor": "white",
           "linecolor": "white",
           "ticks": "",
           "title": {
            "standoff": 15
           },
           "zerolinecolor": "white",
           "zerolinewidth": 2
          },
          "yaxis": {
           "automargin": true,
           "gridcolor": "white",
           "linecolor": "white",
           "ticks": "",
           "title": {
            "standoff": 15
           },
           "zerolinecolor": "white",
           "zerolinewidth": 2
          }
         }
        },
        "title": {
         "text": "FNN - Optimization History"
        },
        "xaxis": {
         "title": {
          "text": "Trial"
         }
        },
        "yaxis": {
         "title": {
          "text": "Objective Value"
         }
        }
       }
      }
     },
     "metadata": {},
     "output_type": "display_data"
    },
    {
     "data": {
      "application/vnd.plotly.v1+json": {
       "config": {
        "plotlyServerURL": "https://plot.ly"
       },
       "data": [
        {
         "cliponaxis": false,
         "hovertemplate": [
          "pca__svd_solver (CategoricalDistribution): 0.0<extra></extra>",
          "fnn__dropout (FloatDistribution): 0.06666666666665878<extra></extra>",
          "fnn__batch_size (CategoricalDistribution): 0.10000000000000085<extra></extra>",
          "pca__n_components (FloatDistribution): 0.10000000000000085<extra></extra>",
          "fnn__learning_rate (FloatDistribution): 0.1333333333333345<extra></extra>",
          "fnn__epochs (IntDistribution): 0.2000000000000017<extra></extra>",
          "fnn__hidden_dims (CategoricalDistribution): 0.2000000000000017<extra></extra>",
          "pca__whiten (CategoricalDistribution): 0.2000000000000017<extra></extra>"
         ],
         "name": "Objective Value",
         "orientation": "h",
         "text": [
          "<0.01",
          "0.07",
          "0.10",
          "0.10",
          "0.13",
          "0.20",
          "0.20",
          "0.20"
         ],
         "textposition": "outside",
         "type": "bar",
         "x": [
          0,
          0.06666666666665878,
          0.10000000000000085,
          0.10000000000000085,
          0.1333333333333345,
          0.2000000000000017,
          0.2000000000000017,
          0.2000000000000017
         ],
         "y": [
          "pca__svd_solver",
          "fnn__dropout",
          "fnn__batch_size",
          "pca__n_components",
          "fnn__learning_rate",
          "fnn__epochs",
          "fnn__hidden_dims",
          "pca__whiten"
         ]
        }
       ],
       "layout": {
        "template": {
         "data": {
          "bar": [
           {
            "error_x": {
             "color": "#2a3f5f"
            },
            "error_y": {
             "color": "#2a3f5f"
            },
            "marker": {
             "line": {
              "color": "#E5ECF6",
              "width": 0.5
             },
             "pattern": {
              "fillmode": "overlay",
              "size": 10,
              "solidity": 0.2
             }
            },
            "type": "bar"
           }
          ],
          "barpolar": [
           {
            "marker": {
             "line": {
              "color": "#E5ECF6",
              "width": 0.5
             },
             "pattern": {
              "fillmode": "overlay",
              "size": 10,
              "solidity": 0.2
             }
            },
            "type": "barpolar"
           }
          ],
          "carpet": [
           {
            "aaxis": {
             "endlinecolor": "#2a3f5f",
             "gridcolor": "white",
             "linecolor": "white",
             "minorgridcolor": "white",
             "startlinecolor": "#2a3f5f"
            },
            "baxis": {
             "endlinecolor": "#2a3f5f",
             "gridcolor": "white",
             "linecolor": "white",
             "minorgridcolor": "white",
             "startlinecolor": "#2a3f5f"
            },
            "type": "carpet"
           }
          ],
          "choropleth": [
           {
            "colorbar": {
             "outlinewidth": 0,
             "ticks": ""
            },
            "type": "choropleth"
           }
          ],
          "contour": [
           {
            "colorbar": {
             "outlinewidth": 0,
             "ticks": ""
            },
            "colorscale": [
             [
              0,
              "#0d0887"
             ],
             [
              0.1111111111111111,
              "#46039f"
             ],
             [
              0.2222222222222222,
              "#7201a8"
             ],
             [
              0.3333333333333333,
              "#9c179e"
             ],
             [
              0.4444444444444444,
              "#bd3786"
             ],
             [
              0.5555555555555556,
              "#d8576b"
             ],
             [
              0.6666666666666666,
              "#ed7953"
             ],
             [
              0.7777777777777778,
              "#fb9f3a"
             ],
             [
              0.8888888888888888,
              "#fdca26"
             ],
             [
              1,
              "#f0f921"
             ]
            ],
            "type": "contour"
           }
          ],
          "contourcarpet": [
           {
            "colorbar": {
             "outlinewidth": 0,
             "ticks": ""
            },
            "type": "contourcarpet"
           }
          ],
          "heatmap": [
           {
            "colorbar": {
             "outlinewidth": 0,
             "ticks": ""
            },
            "colorscale": [
             [
              0,
              "#0d0887"
             ],
             [
              0.1111111111111111,
              "#46039f"
             ],
             [
              0.2222222222222222,
              "#7201a8"
             ],
             [
              0.3333333333333333,
              "#9c179e"
             ],
             [
              0.4444444444444444,
              "#bd3786"
             ],
             [
              0.5555555555555556,
              "#d8576b"
             ],
             [
              0.6666666666666666,
              "#ed7953"
             ],
             [
              0.7777777777777778,
              "#fb9f3a"
             ],
             [
              0.8888888888888888,
              "#fdca26"
             ],
             [
              1,
              "#f0f921"
             ]
            ],
            "type": "heatmap"
           }
          ],
          "histogram": [
           {
            "marker": {
             "pattern": {
              "fillmode": "overlay",
              "size": 10,
              "solidity": 0.2
             }
            },
            "type": "histogram"
           }
          ],
          "histogram2d": [
           {
            "colorbar": {
             "outlinewidth": 0,
             "ticks": ""
            },
            "colorscale": [
             [
              0,
              "#0d0887"
             ],
             [
              0.1111111111111111,
              "#46039f"
             ],
             [
              0.2222222222222222,
              "#7201a8"
             ],
             [
              0.3333333333333333,
              "#9c179e"
             ],
             [
              0.4444444444444444,
              "#bd3786"
             ],
             [
              0.5555555555555556,
              "#d8576b"
             ],
             [
              0.6666666666666666,
              "#ed7953"
             ],
             [
              0.7777777777777778,
              "#fb9f3a"
             ],
             [
              0.8888888888888888,
              "#fdca26"
             ],
             [
              1,
              "#f0f921"
             ]
            ],
            "type": "histogram2d"
           }
          ],
          "histogram2dcontour": [
           {
            "colorbar": {
             "outlinewidth": 0,
             "ticks": ""
            },
            "colorscale": [
             [
              0,
              "#0d0887"
             ],
             [
              0.1111111111111111,
              "#46039f"
             ],
             [
              0.2222222222222222,
              "#7201a8"
             ],
             [
              0.3333333333333333,
              "#9c179e"
             ],
             [
              0.4444444444444444,
              "#bd3786"
             ],
             [
              0.5555555555555556,
              "#d8576b"
             ],
             [
              0.6666666666666666,
              "#ed7953"
             ],
             [
              0.7777777777777778,
              "#fb9f3a"
             ],
             [
              0.8888888888888888,
              "#fdca26"
             ],
             [
              1,
              "#f0f921"
             ]
            ],
            "type": "histogram2dcontour"
           }
          ],
          "mesh3d": [
           {
            "colorbar": {
             "outlinewidth": 0,
             "ticks": ""
            },
            "type": "mesh3d"
           }
          ],
          "parcoords": [
           {
            "line": {
             "colorbar": {
              "outlinewidth": 0,
              "ticks": ""
             }
            },
            "type": "parcoords"
           }
          ],
          "pie": [
           {
            "automargin": true,
            "type": "pie"
           }
          ],
          "scatter": [
           {
            "fillpattern": {
             "fillmode": "overlay",
             "size": 10,
             "solidity": 0.2
            },
            "type": "scatter"
           }
          ],
          "scatter3d": [
           {
            "line": {
             "colorbar": {
              "outlinewidth": 0,
              "ticks": ""
             }
            },
            "marker": {
             "colorbar": {
              "outlinewidth": 0,
              "ticks": ""
             }
            },
            "type": "scatter3d"
           }
          ],
          "scattercarpet": [
           {
            "marker": {
             "colorbar": {
              "outlinewidth": 0,
              "ticks": ""
             }
            },
            "type": "scattercarpet"
           }
          ],
          "scattergeo": [
           {
            "marker": {
             "colorbar": {
              "outlinewidth": 0,
              "ticks": ""
             }
            },
            "type": "scattergeo"
           }
          ],
          "scattergl": [
           {
            "marker": {
             "colorbar": {
              "outlinewidth": 0,
              "ticks": ""
             }
            },
            "type": "scattergl"
           }
          ],
          "scattermap": [
           {
            "marker": {
             "colorbar": {
              "outlinewidth": 0,
              "ticks": ""
             }
            },
            "type": "scattermap"
           }
          ],
          "scattermapbox": [
           {
            "marker": {
             "colorbar": {
              "outlinewidth": 0,
              "ticks": ""
             }
            },
            "type": "scattermapbox"
           }
          ],
          "scatterpolar": [
           {
            "marker": {
             "colorbar": {
              "outlinewidth": 0,
              "ticks": ""
             }
            },
            "type": "scatterpolar"
           }
          ],
          "scatterpolargl": [
           {
            "marker": {
             "colorbar": {
              "outlinewidth": 0,
              "ticks": ""
             }
            },
            "type": "scatterpolargl"
           }
          ],
          "scatterternary": [
           {
            "marker": {
             "colorbar": {
              "outlinewidth": 0,
              "ticks": ""
             }
            },
            "type": "scatterternary"
           }
          ],
          "surface": [
           {
            "colorbar": {
             "outlinewidth": 0,
             "ticks": ""
            },
            "colorscale": [
             [
              0,
              "#0d0887"
             ],
             [
              0.1111111111111111,
              "#46039f"
             ],
             [
              0.2222222222222222,
              "#7201a8"
             ],
             [
              0.3333333333333333,
              "#9c179e"
             ],
             [
              0.4444444444444444,
              "#bd3786"
             ],
             [
              0.5555555555555556,
              "#d8576b"
             ],
             [
              0.6666666666666666,
              "#ed7953"
             ],
             [
              0.7777777777777778,
              "#fb9f3a"
             ],
             [
              0.8888888888888888,
              "#fdca26"
             ],
             [
              1,
              "#f0f921"
             ]
            ],
            "type": "surface"
           }
          ],
          "table": [
           {
            "cells": {
             "fill": {
              "color": "#EBF0F8"
             },
             "line": {
              "color": "white"
             }
            },
            "header": {
             "fill": {
              "color": "#C8D4E3"
             },
             "line": {
              "color": "white"
             }
            },
            "type": "table"
           }
          ]
         },
         "layout": {
          "annotationdefaults": {
           "arrowcolor": "#2a3f5f",
           "arrowhead": 0,
           "arrowwidth": 1
          },
          "autotypenumbers": "strict",
          "coloraxis": {
           "colorbar": {
            "outlinewidth": 0,
            "ticks": ""
           }
          },
          "colorscale": {
           "diverging": [
            [
             0,
             "#8e0152"
            ],
            [
             0.1,
             "#c51b7d"
            ],
            [
             0.2,
             "#de77ae"
            ],
            [
             0.3,
             "#f1b6da"
            ],
            [
             0.4,
             "#fde0ef"
            ],
            [
             0.5,
             "#f7f7f7"
            ],
            [
             0.6,
             "#e6f5d0"
            ],
            [
             0.7,
             "#b8e186"
            ],
            [
             0.8,
             "#7fbc41"
            ],
            [
             0.9,
             "#4d9221"
            ],
            [
             1,
             "#276419"
            ]
           ],
           "sequential": [
            [
             0,
             "#0d0887"
            ],
            [
             0.1111111111111111,
             "#46039f"
            ],
            [
             0.2222222222222222,
             "#7201a8"
            ],
            [
             0.3333333333333333,
             "#9c179e"
            ],
            [
             0.4444444444444444,
             "#bd3786"
            ],
            [
             0.5555555555555556,
             "#d8576b"
            ],
            [
             0.6666666666666666,
             "#ed7953"
            ],
            [
             0.7777777777777778,
             "#fb9f3a"
            ],
            [
             0.8888888888888888,
             "#fdca26"
            ],
            [
             1,
             "#f0f921"
            ]
           ],
           "sequentialminus": [
            [
             0,
             "#0d0887"
            ],
            [
             0.1111111111111111,
             "#46039f"
            ],
            [
             0.2222222222222222,
             "#7201a8"
            ],
            [
             0.3333333333333333,
             "#9c179e"
            ],
            [
             0.4444444444444444,
             "#bd3786"
            ],
            [
             0.5555555555555556,
             "#d8576b"
            ],
            [
             0.6666666666666666,
             "#ed7953"
            ],
            [
             0.7777777777777778,
             "#fb9f3a"
            ],
            [
             0.8888888888888888,
             "#fdca26"
            ],
            [
             1,
             "#f0f921"
            ]
           ]
          },
          "colorway": [
           "#636efa",
           "#EF553B",
           "#00cc96",
           "#ab63fa",
           "#FFA15A",
           "#19d3f3",
           "#FF6692",
           "#B6E880",
           "#FF97FF",
           "#FECB52"
          ],
          "font": {
           "color": "#2a3f5f"
          },
          "geo": {
           "bgcolor": "white",
           "lakecolor": "white",
           "landcolor": "#E5ECF6",
           "showlakes": true,
           "showland": true,
           "subunitcolor": "white"
          },
          "hoverlabel": {
           "align": "left"
          },
          "hovermode": "closest",
          "mapbox": {
           "style": "light"
          },
          "paper_bgcolor": "white",
          "plot_bgcolor": "#E5ECF6",
          "polar": {
           "angularaxis": {
            "gridcolor": "white",
            "linecolor": "white",
            "ticks": ""
           },
           "bgcolor": "#E5ECF6",
           "radialaxis": {
            "gridcolor": "white",
            "linecolor": "white",
            "ticks": ""
           }
          },
          "scene": {
           "xaxis": {
            "backgroundcolor": "#E5ECF6",
            "gridcolor": "white",
            "gridwidth": 2,
            "linecolor": "white",
            "showbackground": true,
            "ticks": "",
            "zerolinecolor": "white"
           },
           "yaxis": {
            "backgroundcolor": "#E5ECF6",
            "gridcolor": "white",
            "gridwidth": 2,
            "linecolor": "white",
            "showbackground": true,
            "ticks": "",
            "zerolinecolor": "white"
           },
           "zaxis": {
            "backgroundcolor": "#E5ECF6",
            "gridcolor": "white",
            "gridwidth": 2,
            "linecolor": "white",
            "showbackground": true,
            "ticks": "",
            "zerolinecolor": "white"
           }
          },
          "shapedefaults": {
           "line": {
            "color": "#2a3f5f"
           }
          },
          "ternary": {
           "aaxis": {
            "gridcolor": "white",
            "linecolor": "white",
            "ticks": ""
           },
           "baxis": {
            "gridcolor": "white",
            "linecolor": "white",
            "ticks": ""
           },
           "bgcolor": "#E5ECF6",
           "caxis": {
            "gridcolor": "white",
            "linecolor": "white",
            "ticks": ""
           }
          },
          "title": {
           "x": 0.05
          },
          "xaxis": {
           "automargin": true,
           "gridcolor": "white",
           "linecolor": "white",
           "ticks": "",
           "title": {
            "standoff": 15
           },
           "zerolinecolor": "white",
           "zerolinewidth": 2
          },
          "yaxis": {
           "automargin": true,
           "gridcolor": "white",
           "linecolor": "white",
           "ticks": "",
           "title": {
            "standoff": 15
           },
           "zerolinecolor": "white",
           "zerolinewidth": 2
          }
         }
        },
        "title": {
         "text": "FNN - Parameter Importances"
        },
        "xaxis": {
         "title": {
          "text": "Hyperparameter Importance"
         }
        },
        "yaxis": {
         "title": {
          "text": "Hyperparameter"
         }
        }
       }
      }
     },
     "metadata": {},
     "output_type": "display_data"
    },
    {
     "name": "stdout",
     "output_type": "stream",
     "text": [
      "\n",
      "LGB - Best Score: 0.9405\n",
      "Best Parameters: {'pca__n_components': 0.917774245222722, 'pca__whiten': True, 'pca__svd_solver': 'auto', 'lgb__n_estimators': 467, 'lgb__num_leaves': 221, 'lgb__max_depth': 7, 'lgb__learning_rate': 0.03934176373119949, 'lgb__min_child_samples': 9, 'lgb__subsample': 0.8721543553721629, 'lgb__colsample_bytree': 0.8492221171098668, 'lgb__reg_alpha': 0.4522124403000529, 'lgb__reg_lambda': 0.6927087143398116}\n"
     ]
    },
    {
     "data": {
      "application/vnd.plotly.v1+json": {
       "config": {
        "plotlyServerURL": "https://plot.ly"
       },
       "data": [
        {
         "mode": "markers",
         "name": "Objective Value",
         "type": "scatter",
         "x": [
          0,
          1
         ],
         "y": [
          0.9405499303699946,
          0.9402790387920902
         ]
        },
        {
         "mode": "lines",
         "name": "Best Value",
         "type": "scatter",
         "x": [
          0,
          1
         ],
         "y": [
          0.9405499303699946,
          0.9405499303699946
         ]
        },
        {
         "marker": {
          "color": "#cccccc"
         },
         "mode": "markers",
         "name": "Infeasible Trial",
         "showlegend": false,
         "type": "scatter",
         "x": [],
         "y": []
        }
       ],
       "layout": {
        "template": {
         "data": {
          "bar": [
           {
            "error_x": {
             "color": "#2a3f5f"
            },
            "error_y": {
             "color": "#2a3f5f"
            },
            "marker": {
             "line": {
              "color": "#E5ECF6",
              "width": 0.5
             },
             "pattern": {
              "fillmode": "overlay",
              "size": 10,
              "solidity": 0.2
             }
            },
            "type": "bar"
           }
          ],
          "barpolar": [
           {
            "marker": {
             "line": {
              "color": "#E5ECF6",
              "width": 0.5
             },
             "pattern": {
              "fillmode": "overlay",
              "size": 10,
              "solidity": 0.2
             }
            },
            "type": "barpolar"
           }
          ],
          "carpet": [
           {
            "aaxis": {
             "endlinecolor": "#2a3f5f",
             "gridcolor": "white",
             "linecolor": "white",
             "minorgridcolor": "white",
             "startlinecolor": "#2a3f5f"
            },
            "baxis": {
             "endlinecolor": "#2a3f5f",
             "gridcolor": "white",
             "linecolor": "white",
             "minorgridcolor": "white",
             "startlinecolor": "#2a3f5f"
            },
            "type": "carpet"
           }
          ],
          "choropleth": [
           {
            "colorbar": {
             "outlinewidth": 0,
             "ticks": ""
            },
            "type": "choropleth"
           }
          ],
          "contour": [
           {
            "colorbar": {
             "outlinewidth": 0,
             "ticks": ""
            },
            "colorscale": [
             [
              0,
              "#0d0887"
             ],
             [
              0.1111111111111111,
              "#46039f"
             ],
             [
              0.2222222222222222,
              "#7201a8"
             ],
             [
              0.3333333333333333,
              "#9c179e"
             ],
             [
              0.4444444444444444,
              "#bd3786"
             ],
             [
              0.5555555555555556,
              "#d8576b"
             ],
             [
              0.6666666666666666,
              "#ed7953"
             ],
             [
              0.7777777777777778,
              "#fb9f3a"
             ],
             [
              0.8888888888888888,
              "#fdca26"
             ],
             [
              1,
              "#f0f921"
             ]
            ],
            "type": "contour"
           }
          ],
          "contourcarpet": [
           {
            "colorbar": {
             "outlinewidth": 0,
             "ticks": ""
            },
            "type": "contourcarpet"
           }
          ],
          "heatmap": [
           {
            "colorbar": {
             "outlinewidth": 0,
             "ticks": ""
            },
            "colorscale": [
             [
              0,
              "#0d0887"
             ],
             [
              0.1111111111111111,
              "#46039f"
             ],
             [
              0.2222222222222222,
              "#7201a8"
             ],
             [
              0.3333333333333333,
              "#9c179e"
             ],
             [
              0.4444444444444444,
              "#bd3786"
             ],
             [
              0.5555555555555556,
              "#d8576b"
             ],
             [
              0.6666666666666666,
              "#ed7953"
             ],
             [
              0.7777777777777778,
              "#fb9f3a"
             ],
             [
              0.8888888888888888,
              "#fdca26"
             ],
             [
              1,
              "#f0f921"
             ]
            ],
            "type": "heatmap"
           }
          ],
          "histogram": [
           {
            "marker": {
             "pattern": {
              "fillmode": "overlay",
              "size": 10,
              "solidity": 0.2
             }
            },
            "type": "histogram"
           }
          ],
          "histogram2d": [
           {
            "colorbar": {
             "outlinewidth": 0,
             "ticks": ""
            },
            "colorscale": [
             [
              0,
              "#0d0887"
             ],
             [
              0.1111111111111111,
              "#46039f"
             ],
             [
              0.2222222222222222,
              "#7201a8"
             ],
             [
              0.3333333333333333,
              "#9c179e"
             ],
             [
              0.4444444444444444,
              "#bd3786"
             ],
             [
              0.5555555555555556,
              "#d8576b"
             ],
             [
              0.6666666666666666,
              "#ed7953"
             ],
             [
              0.7777777777777778,
              "#fb9f3a"
             ],
             [
              0.8888888888888888,
              "#fdca26"
             ],
             [
              1,
              "#f0f921"
             ]
            ],
            "type": "histogram2d"
           }
          ],
          "histogram2dcontour": [
           {
            "colorbar": {
             "outlinewidth": 0,
             "ticks": ""
            },
            "colorscale": [
             [
              0,
              "#0d0887"
             ],
             [
              0.1111111111111111,
              "#46039f"
             ],
             [
              0.2222222222222222,
              "#7201a8"
             ],
             [
              0.3333333333333333,
              "#9c179e"
             ],
             [
              0.4444444444444444,
              "#bd3786"
             ],
             [
              0.5555555555555556,
              "#d8576b"
             ],
             [
              0.6666666666666666,
              "#ed7953"
             ],
             [
              0.7777777777777778,
              "#fb9f3a"
             ],
             [
              0.8888888888888888,
              "#fdca26"
             ],
             [
              1,
              "#f0f921"
             ]
            ],
            "type": "histogram2dcontour"
           }
          ],
          "mesh3d": [
           {
            "colorbar": {
             "outlinewidth": 0,
             "ticks": ""
            },
            "type": "mesh3d"
           }
          ],
          "parcoords": [
           {
            "line": {
             "colorbar": {
              "outlinewidth": 0,
              "ticks": ""
             }
            },
            "type": "parcoords"
           }
          ],
          "pie": [
           {
            "automargin": true,
            "type": "pie"
           }
          ],
          "scatter": [
           {
            "fillpattern": {
             "fillmode": "overlay",
             "size": 10,
             "solidity": 0.2
            },
            "type": "scatter"
           }
          ],
          "scatter3d": [
           {
            "line": {
             "colorbar": {
              "outlinewidth": 0,
              "ticks": ""
             }
            },
            "marker": {
             "colorbar": {
              "outlinewidth": 0,
              "ticks": ""
             }
            },
            "type": "scatter3d"
           }
          ],
          "scattercarpet": [
           {
            "marker": {
             "colorbar": {
              "outlinewidth": 0,
              "ticks": ""
             }
            },
            "type": "scattercarpet"
           }
          ],
          "scattergeo": [
           {
            "marker": {
             "colorbar": {
              "outlinewidth": 0,
              "ticks": ""
             }
            },
            "type": "scattergeo"
           }
          ],
          "scattergl": [
           {
            "marker": {
             "colorbar": {
              "outlinewidth": 0,
              "ticks": ""
             }
            },
            "type": "scattergl"
           }
          ],
          "scattermap": [
           {
            "marker": {
             "colorbar": {
              "outlinewidth": 0,
              "ticks": ""
             }
            },
            "type": "scattermap"
           }
          ],
          "scattermapbox": [
           {
            "marker": {
             "colorbar": {
              "outlinewidth": 0,
              "ticks": ""
             }
            },
            "type": "scattermapbox"
           }
          ],
          "scatterpolar": [
           {
            "marker": {
             "colorbar": {
              "outlinewidth": 0,
              "ticks": ""
             }
            },
            "type": "scatterpolar"
           }
          ],
          "scatterpolargl": [
           {
            "marker": {
             "colorbar": {
              "outlinewidth": 0,
              "ticks": ""
             }
            },
            "type": "scatterpolargl"
           }
          ],
          "scatterternary": [
           {
            "marker": {
             "colorbar": {
              "outlinewidth": 0,
              "ticks": ""
             }
            },
            "type": "scatterternary"
           }
          ],
          "surface": [
           {
            "colorbar": {
             "outlinewidth": 0,
             "ticks": ""
            },
            "colorscale": [
             [
              0,
              "#0d0887"
             ],
             [
              0.1111111111111111,
              "#46039f"
             ],
             [
              0.2222222222222222,
              "#7201a8"
             ],
             [
              0.3333333333333333,
              "#9c179e"
             ],
             [
              0.4444444444444444,
              "#bd3786"
             ],
             [
              0.5555555555555556,
              "#d8576b"
             ],
             [
              0.6666666666666666,
              "#ed7953"
             ],
             [
              0.7777777777777778,
              "#fb9f3a"
             ],
             [
              0.8888888888888888,
              "#fdca26"
             ],
             [
              1,
              "#f0f921"
             ]
            ],
            "type": "surface"
           }
          ],
          "table": [
           {
            "cells": {
             "fill": {
              "color": "#EBF0F8"
             },
             "line": {
              "color": "white"
             }
            },
            "header": {
             "fill": {
              "color": "#C8D4E3"
             },
             "line": {
              "color": "white"
             }
            },
            "type": "table"
           }
          ]
         },
         "layout": {
          "annotationdefaults": {
           "arrowcolor": "#2a3f5f",
           "arrowhead": 0,
           "arrowwidth": 1
          },
          "autotypenumbers": "strict",
          "coloraxis": {
           "colorbar": {
            "outlinewidth": 0,
            "ticks": ""
           }
          },
          "colorscale": {
           "diverging": [
            [
             0,
             "#8e0152"
            ],
            [
             0.1,
             "#c51b7d"
            ],
            [
             0.2,
             "#de77ae"
            ],
            [
             0.3,
             "#f1b6da"
            ],
            [
             0.4,
             "#fde0ef"
            ],
            [
             0.5,
             "#f7f7f7"
            ],
            [
             0.6,
             "#e6f5d0"
            ],
            [
             0.7,
             "#b8e186"
            ],
            [
             0.8,
             "#7fbc41"
            ],
            [
             0.9,
             "#4d9221"
            ],
            [
             1,
             "#276419"
            ]
           ],
           "sequential": [
            [
             0,
             "#0d0887"
            ],
            [
             0.1111111111111111,
             "#46039f"
            ],
            [
             0.2222222222222222,
             "#7201a8"
            ],
            [
             0.3333333333333333,
             "#9c179e"
            ],
            [
             0.4444444444444444,
             "#bd3786"
            ],
            [
             0.5555555555555556,
             "#d8576b"
            ],
            [
             0.6666666666666666,
             "#ed7953"
            ],
            [
             0.7777777777777778,
             "#fb9f3a"
            ],
            [
             0.8888888888888888,
             "#fdca26"
            ],
            [
             1,
             "#f0f921"
            ]
           ],
           "sequentialminus": [
            [
             0,
             "#0d0887"
            ],
            [
             0.1111111111111111,
             "#46039f"
            ],
            [
             0.2222222222222222,
             "#7201a8"
            ],
            [
             0.3333333333333333,
             "#9c179e"
            ],
            [
             0.4444444444444444,
             "#bd3786"
            ],
            [
             0.5555555555555556,
             "#d8576b"
            ],
            [
             0.6666666666666666,
             "#ed7953"
            ],
            [
             0.7777777777777778,
             "#fb9f3a"
            ],
            [
             0.8888888888888888,
             "#fdca26"
            ],
            [
             1,
             "#f0f921"
            ]
           ]
          },
          "colorway": [
           "#636efa",
           "#EF553B",
           "#00cc96",
           "#ab63fa",
           "#FFA15A",
           "#19d3f3",
           "#FF6692",
           "#B6E880",
           "#FF97FF",
           "#FECB52"
          ],
          "font": {
           "color": "#2a3f5f"
          },
          "geo": {
           "bgcolor": "white",
           "lakecolor": "white",
           "landcolor": "#E5ECF6",
           "showlakes": true,
           "showland": true,
           "subunitcolor": "white"
          },
          "hoverlabel": {
           "align": "left"
          },
          "hovermode": "closest",
          "mapbox": {
           "style": "light"
          },
          "paper_bgcolor": "white",
          "plot_bgcolor": "#E5ECF6",
          "polar": {
           "angularaxis": {
            "gridcolor": "white",
            "linecolor": "white",
            "ticks": ""
           },
           "bgcolor": "#E5ECF6",
           "radialaxis": {
            "gridcolor": "white",
            "linecolor": "white",
            "ticks": ""
           }
          },
          "scene": {
           "xaxis": {
            "backgroundcolor": "#E5ECF6",
            "gridcolor": "white",
            "gridwidth": 2,
            "linecolor": "white",
            "showbackground": true,
            "ticks": "",
            "zerolinecolor": "white"
           },
           "yaxis": {
            "backgroundcolor": "#E5ECF6",
            "gridcolor": "white",
            "gridwidth": 2,
            "linecolor": "white",
            "showbackground": true,
            "ticks": "",
            "zerolinecolor": "white"
           },
           "zaxis": {
            "backgroundcolor": "#E5ECF6",
            "gridcolor": "white",
            "gridwidth": 2,
            "linecolor": "white",
            "showbackground": true,
            "ticks": "",
            "zerolinecolor": "white"
           }
          },
          "shapedefaults": {
           "line": {
            "color": "#2a3f5f"
           }
          },
          "ternary": {
           "aaxis": {
            "gridcolor": "white",
            "linecolor": "white",
            "ticks": ""
           },
           "baxis": {
            "gridcolor": "white",
            "linecolor": "white",
            "ticks": ""
           },
           "bgcolor": "#E5ECF6",
           "caxis": {
            "gridcolor": "white",
            "linecolor": "white",
            "ticks": ""
           }
          },
          "title": {
           "x": 0.05
          },
          "xaxis": {
           "automargin": true,
           "gridcolor": "white",
           "linecolor": "white",
           "ticks": "",
           "title": {
            "standoff": 15
           },
           "zerolinecolor": "white",
           "zerolinewidth": 2
          },
          "yaxis": {
           "automargin": true,
           "gridcolor": "white",
           "linecolor": "white",
           "ticks": "",
           "title": {
            "standoff": 15
           },
           "zerolinecolor": "white",
           "zerolinewidth": 2
          }
         }
        },
        "title": {
         "text": "LGB - Optimization History"
        },
        "xaxis": {
         "title": {
          "text": "Trial"
         }
        },
        "yaxis": {
         "title": {
          "text": "Objective Value"
         }
        }
       }
      }
     },
     "metadata": {},
     "output_type": "display_data"
    },
    {
     "data": {
      "application/vnd.plotly.v1+json": {
       "config": {
        "plotlyServerURL": "https://plot.ly"
       },
       "data": [
        {
         "cliponaxis": false,
         "hovertemplate": [
          "lgb__n_estimators (IntDistribution): 0.0<extra></extra>",
          "lgb__num_leaves (IntDistribution): 0.0<extra></extra>",
          "pca__whiten (CategoricalDistribution): 0.0<extra></extra>",
          "lgb__subsample (FloatDistribution): 0.062499999999974375<extra></extra>",
          "lgb__colsample_bytree (FloatDistribution): 0.06249999999997438<extra></extra>",
          "lgb__max_depth (IntDistribution): 0.0625000000000256<extra></extra>",
          "lgb__learning_rate (FloatDistribution): 0.06250000000002562<extra></extra>",
          "lgb__min_child_samples (IntDistribution): 0.09375000000003843<extra></extra>",
          "lgb__reg_alpha (FloatDistribution): 0.09375000000003843<extra></extra>",
          "lgb__reg_lambda (FloatDistribution): 0.12500000000005124<extra></extra>",
          "pca__n_components (FloatDistribution): 0.1874999999997695<extra></extra>",
          "pca__svd_solver (CategoricalDistribution): 0.2500000000001025<extra></extra>"
         ],
         "name": "Objective Value",
         "orientation": "h",
         "text": [
          "<0.01",
          "<0.01",
          "<0.01",
          "0.06",
          "0.06",
          "0.06",
          "0.06",
          "0.09",
          "0.09",
          "0.13",
          "0.19",
          "0.25"
         ],
         "textposition": "outside",
         "type": "bar",
         "x": [
          0,
          0,
          0,
          0.062499999999974375,
          0.06249999999997438,
          0.0625000000000256,
          0.06250000000002562,
          0.09375000000003843,
          0.09375000000003843,
          0.12500000000005124,
          0.1874999999997695,
          0.2500000000001025
         ],
         "y": [
          "lgb__n_estimators",
          "lgb__num_leaves",
          "pca__whiten",
          "lgb__subsample",
          "lgb__colsample_bytree",
          "lgb__max_depth",
          "lgb__learning_rate",
          "lgb__min_child_samples",
          "lgb__reg_alpha",
          "lgb__reg_lambda",
          "pca__n_components",
          "pca__svd_solver"
         ]
        }
       ],
       "layout": {
        "template": {
         "data": {
          "bar": [
           {
            "error_x": {
             "color": "#2a3f5f"
            },
            "error_y": {
             "color": "#2a3f5f"
            },
            "marker": {
             "line": {
              "color": "#E5ECF6",
              "width": 0.5
             },
             "pattern": {
              "fillmode": "overlay",
              "size": 10,
              "solidity": 0.2
             }
            },
            "type": "bar"
           }
          ],
          "barpolar": [
           {
            "marker": {
             "line": {
              "color": "#E5ECF6",
              "width": 0.5
             },
             "pattern": {
              "fillmode": "overlay",
              "size": 10,
              "solidity": 0.2
             }
            },
            "type": "barpolar"
           }
          ],
          "carpet": [
           {
            "aaxis": {
             "endlinecolor": "#2a3f5f",
             "gridcolor": "white",
             "linecolor": "white",
             "minorgridcolor": "white",
             "startlinecolor": "#2a3f5f"
            },
            "baxis": {
             "endlinecolor": "#2a3f5f",
             "gridcolor": "white",
             "linecolor": "white",
             "minorgridcolor": "white",
             "startlinecolor": "#2a3f5f"
            },
            "type": "carpet"
           }
          ],
          "choropleth": [
           {
            "colorbar": {
             "outlinewidth": 0,
             "ticks": ""
            },
            "type": "choropleth"
           }
          ],
          "contour": [
           {
            "colorbar": {
             "outlinewidth": 0,
             "ticks": ""
            },
            "colorscale": [
             [
              0,
              "#0d0887"
             ],
             [
              0.1111111111111111,
              "#46039f"
             ],
             [
              0.2222222222222222,
              "#7201a8"
             ],
             [
              0.3333333333333333,
              "#9c179e"
             ],
             [
              0.4444444444444444,
              "#bd3786"
             ],
             [
              0.5555555555555556,
              "#d8576b"
             ],
             [
              0.6666666666666666,
              "#ed7953"
             ],
             [
              0.7777777777777778,
              "#fb9f3a"
             ],
             [
              0.8888888888888888,
              "#fdca26"
             ],
             [
              1,
              "#f0f921"
             ]
            ],
            "type": "contour"
           }
          ],
          "contourcarpet": [
           {
            "colorbar": {
             "outlinewidth": 0,
             "ticks": ""
            },
            "type": "contourcarpet"
           }
          ],
          "heatmap": [
           {
            "colorbar": {
             "outlinewidth": 0,
             "ticks": ""
            },
            "colorscale": [
             [
              0,
              "#0d0887"
             ],
             [
              0.1111111111111111,
              "#46039f"
             ],
             [
              0.2222222222222222,
              "#7201a8"
             ],
             [
              0.3333333333333333,
              "#9c179e"
             ],
             [
              0.4444444444444444,
              "#bd3786"
             ],
             [
              0.5555555555555556,
              "#d8576b"
             ],
             [
              0.6666666666666666,
              "#ed7953"
             ],
             [
              0.7777777777777778,
              "#fb9f3a"
             ],
             [
              0.8888888888888888,
              "#fdca26"
             ],
             [
              1,
              "#f0f921"
             ]
            ],
            "type": "heatmap"
           }
          ],
          "histogram": [
           {
            "marker": {
             "pattern": {
              "fillmode": "overlay",
              "size": 10,
              "solidity": 0.2
             }
            },
            "type": "histogram"
           }
          ],
          "histogram2d": [
           {
            "colorbar": {
             "outlinewidth": 0,
             "ticks": ""
            },
            "colorscale": [
             [
              0,
              "#0d0887"
             ],
             [
              0.1111111111111111,
              "#46039f"
             ],
             [
              0.2222222222222222,
              "#7201a8"
             ],
             [
              0.3333333333333333,
              "#9c179e"
             ],
             [
              0.4444444444444444,
              "#bd3786"
             ],
             [
              0.5555555555555556,
              "#d8576b"
             ],
             [
              0.6666666666666666,
              "#ed7953"
             ],
             [
              0.7777777777777778,
              "#fb9f3a"
             ],
             [
              0.8888888888888888,
              "#fdca26"
             ],
             [
              1,
              "#f0f921"
             ]
            ],
            "type": "histogram2d"
           }
          ],
          "histogram2dcontour": [
           {
            "colorbar": {
             "outlinewidth": 0,
             "ticks": ""
            },
            "colorscale": [
             [
              0,
              "#0d0887"
             ],
             [
              0.1111111111111111,
              "#46039f"
             ],
             [
              0.2222222222222222,
              "#7201a8"
             ],
             [
              0.3333333333333333,
              "#9c179e"
             ],
             [
              0.4444444444444444,
              "#bd3786"
             ],
             [
              0.5555555555555556,
              "#d8576b"
             ],
             [
              0.6666666666666666,
              "#ed7953"
             ],
             [
              0.7777777777777778,
              "#fb9f3a"
             ],
             [
              0.8888888888888888,
              "#fdca26"
             ],
             [
              1,
              "#f0f921"
             ]
            ],
            "type": "histogram2dcontour"
           }
          ],
          "mesh3d": [
           {
            "colorbar": {
             "outlinewidth": 0,
             "ticks": ""
            },
            "type": "mesh3d"
           }
          ],
          "parcoords": [
           {
            "line": {
             "colorbar": {
              "outlinewidth": 0,
              "ticks": ""
             }
            },
            "type": "parcoords"
           }
          ],
          "pie": [
           {
            "automargin": true,
            "type": "pie"
           }
          ],
          "scatter": [
           {
            "fillpattern": {
             "fillmode": "overlay",
             "size": 10,
             "solidity": 0.2
            },
            "type": "scatter"
           }
          ],
          "scatter3d": [
           {
            "line": {
             "colorbar": {
              "outlinewidth": 0,
              "ticks": ""
             }
            },
            "marker": {
             "colorbar": {
              "outlinewidth": 0,
              "ticks": ""
             }
            },
            "type": "scatter3d"
           }
          ],
          "scattercarpet": [
           {
            "marker": {
             "colorbar": {
              "outlinewidth": 0,
              "ticks": ""
             }
            },
            "type": "scattercarpet"
           }
          ],
          "scattergeo": [
           {
            "marker": {
             "colorbar": {
              "outlinewidth": 0,
              "ticks": ""
             }
            },
            "type": "scattergeo"
           }
          ],
          "scattergl": [
           {
            "marker": {
             "colorbar": {
              "outlinewidth": 0,
              "ticks": ""
             }
            },
            "type": "scattergl"
           }
          ],
          "scattermap": [
           {
            "marker": {
             "colorbar": {
              "outlinewidth": 0,
              "ticks": ""
             }
            },
            "type": "scattermap"
           }
          ],
          "scattermapbox": [
           {
            "marker": {
             "colorbar": {
              "outlinewidth": 0,
              "ticks": ""
             }
            },
            "type": "scattermapbox"
           }
          ],
          "scatterpolar": [
           {
            "marker": {
             "colorbar": {
              "outlinewidth": 0,
              "ticks": ""
             }
            },
            "type": "scatterpolar"
           }
          ],
          "scatterpolargl": [
           {
            "marker": {
             "colorbar": {
              "outlinewidth": 0,
              "ticks": ""
             }
            },
            "type": "scatterpolargl"
           }
          ],
          "scatterternary": [
           {
            "marker": {
             "colorbar": {
              "outlinewidth": 0,
              "ticks": ""
             }
            },
            "type": "scatterternary"
           }
          ],
          "surface": [
           {
            "colorbar": {
             "outlinewidth": 0,
             "ticks": ""
            },
            "colorscale": [
             [
              0,
              "#0d0887"
             ],
             [
              0.1111111111111111,
              "#46039f"
             ],
             [
              0.2222222222222222,
              "#7201a8"
             ],
             [
              0.3333333333333333,
              "#9c179e"
             ],
             [
              0.4444444444444444,
              "#bd3786"
             ],
             [
              0.5555555555555556,
              "#d8576b"
             ],
             [
              0.6666666666666666,
              "#ed7953"
             ],
             [
              0.7777777777777778,
              "#fb9f3a"
             ],
             [
              0.8888888888888888,
              "#fdca26"
             ],
             [
              1,
              "#f0f921"
             ]
            ],
            "type": "surface"
           }
          ],
          "table": [
           {
            "cells": {
             "fill": {
              "color": "#EBF0F8"
             },
             "line": {
              "color": "white"
             }
            },
            "header": {
             "fill": {
              "color": "#C8D4E3"
             },
             "line": {
              "color": "white"
             }
            },
            "type": "table"
           }
          ]
         },
         "layout": {
          "annotationdefaults": {
           "arrowcolor": "#2a3f5f",
           "arrowhead": 0,
           "arrowwidth": 1
          },
          "autotypenumbers": "strict",
          "coloraxis": {
           "colorbar": {
            "outlinewidth": 0,
            "ticks": ""
           }
          },
          "colorscale": {
           "diverging": [
            [
             0,
             "#8e0152"
            ],
            [
             0.1,
             "#c51b7d"
            ],
            [
             0.2,
             "#de77ae"
            ],
            [
             0.3,
             "#f1b6da"
            ],
            [
             0.4,
             "#fde0ef"
            ],
            [
             0.5,
             "#f7f7f7"
            ],
            [
             0.6,
             "#e6f5d0"
            ],
            [
             0.7,
             "#b8e186"
            ],
            [
             0.8,
             "#7fbc41"
            ],
            [
             0.9,
             "#4d9221"
            ],
            [
             1,
             "#276419"
            ]
           ],
           "sequential": [
            [
             0,
             "#0d0887"
            ],
            [
             0.1111111111111111,
             "#46039f"
            ],
            [
             0.2222222222222222,
             "#7201a8"
            ],
            [
             0.3333333333333333,
             "#9c179e"
            ],
            [
             0.4444444444444444,
             "#bd3786"
            ],
            [
             0.5555555555555556,
             "#d8576b"
            ],
            [
             0.6666666666666666,
             "#ed7953"
            ],
            [
             0.7777777777777778,
             "#fb9f3a"
            ],
            [
             0.8888888888888888,
             "#fdca26"
            ],
            [
             1,
             "#f0f921"
            ]
           ],
           "sequentialminus": [
            [
             0,
             "#0d0887"
            ],
            [
             0.1111111111111111,
             "#46039f"
            ],
            [
             0.2222222222222222,
             "#7201a8"
            ],
            [
             0.3333333333333333,
             "#9c179e"
            ],
            [
             0.4444444444444444,
             "#bd3786"
            ],
            [
             0.5555555555555556,
             "#d8576b"
            ],
            [
             0.6666666666666666,
             "#ed7953"
            ],
            [
             0.7777777777777778,
             "#fb9f3a"
            ],
            [
             0.8888888888888888,
             "#fdca26"
            ],
            [
             1,
             "#f0f921"
            ]
           ]
          },
          "colorway": [
           "#636efa",
           "#EF553B",
           "#00cc96",
           "#ab63fa",
           "#FFA15A",
           "#19d3f3",
           "#FF6692",
           "#B6E880",
           "#FF97FF",
           "#FECB52"
          ],
          "font": {
           "color": "#2a3f5f"
          },
          "geo": {
           "bgcolor": "white",
           "lakecolor": "white",
           "landcolor": "#E5ECF6",
           "showlakes": true,
           "showland": true,
           "subunitcolor": "white"
          },
          "hoverlabel": {
           "align": "left"
          },
          "hovermode": "closest",
          "mapbox": {
           "style": "light"
          },
          "paper_bgcolor": "white",
          "plot_bgcolor": "#E5ECF6",
          "polar": {
           "angularaxis": {
            "gridcolor": "white",
            "linecolor": "white",
            "ticks": ""
           },
           "bgcolor": "#E5ECF6",
           "radialaxis": {
            "gridcolor": "white",
            "linecolor": "white",
            "ticks": ""
           }
          },
          "scene": {
           "xaxis": {
            "backgroundcolor": "#E5ECF6",
            "gridcolor": "white",
            "gridwidth": 2,
            "linecolor": "white",
            "showbackground": true,
            "ticks": "",
            "zerolinecolor": "white"
           },
           "yaxis": {
            "backgroundcolor": "#E5ECF6",
            "gridcolor": "white",
            "gridwidth": 2,
            "linecolor": "white",
            "showbackground": true,
            "ticks": "",
            "zerolinecolor": "white"
           },
           "zaxis": {
            "backgroundcolor": "#E5ECF6",
            "gridcolor": "white",
            "gridwidth": 2,
            "linecolor": "white",
            "showbackground": true,
            "ticks": "",
            "zerolinecolor": "white"
           }
          },
          "shapedefaults": {
           "line": {
            "color": "#2a3f5f"
           }
          },
          "ternary": {
           "aaxis": {
            "gridcolor": "white",
            "linecolor": "white",
            "ticks": ""
           },
           "baxis": {
            "gridcolor": "white",
            "linecolor": "white",
            "ticks": ""
           },
           "bgcolor": "#E5ECF6",
           "caxis": {
            "gridcolor": "white",
            "linecolor": "white",
            "ticks": ""
           }
          },
          "title": {
           "x": 0.05
          },
          "xaxis": {
           "automargin": true,
           "gridcolor": "white",
           "linecolor": "white",
           "ticks": "",
           "title": {
            "standoff": 15
           },
           "zerolinecolor": "white",
           "zerolinewidth": 2
          },
          "yaxis": {
           "automargin": true,
           "gridcolor": "white",
           "linecolor": "white",
           "ticks": "",
           "title": {
            "standoff": 15
           },
           "zerolinecolor": "white",
           "zerolinewidth": 2
          }
         }
        },
        "title": {
         "text": "LGB - Parameter Importances"
        },
        "xaxis": {
         "title": {
          "text": "Hyperparameter Importance"
         }
        },
        "yaxis": {
         "title": {
          "text": "Hyperparameter"
         }
        }
       }
      }
     },
     "metadata": {},
     "output_type": "display_data"
    },
    {
     "name": "stdout",
     "output_type": "stream",
     "text": [
      "\n",
      "============================================================\n"
     ]
    }
   ],
   "source": [
    "# Visualize Optuna optimization for top 3 models\n",
    "top_models = sorted(training_models, key=lambda x: study_results[x[0]].best_value, reverse=True)[:3]\n",
    "\n",
    "print(\"📊 Optuna Optimization Analysis for Top 3 Models\")\n",
    "print(\"-\" * 60)\n",
    "\n",
    "for name, _ in top_models:\n",
    "    study = study_results[name]\n",
    "    print(f\"\\n{name} - Best Score: {study.best_value:.4f}\")\n",
    "    print(f\"Best Parameters: {study.best_params}\")\n",
    "    \n",
    "    # Plot optimization history\n",
    "    fig = optuna.visualization.plot_optimization_history(study)\n",
    "    fig.update_layout(title=f\"{name} - Optimization History\")\n",
    "    fig.show()\n",
    "    \n",
    "    # Plot parameter importances\n",
    "    try:\n",
    "        fig = optuna.visualization.plot_param_importances(study)\n",
    "        fig.update_layout(title=f\"{name} - Parameter Importances\")\n",
    "        fig.show()\n",
    "    except:\n",
    "        print(f\"  (Not enough trials for parameter importance analysis)\")\n",
    "    \n",
    "print(\"\\n\" + \"=\" * 60)"
   ]
  },
  {
   "cell_type": "markdown",
   "metadata": {},
   "source": [
    "**7. Save or load all resulting models**\n",
    "\n",
    "Let's save all resulting trained models locally or retrieve previously trained models from local or remote sources."
   ]
  },
  {
   "cell_type": "code",
   "execution_count": 39,
   "metadata": {},
   "outputs": [
    {
     "name": "stdout",
     "output_type": "stream",
     "text": [
      "💾 Saved 20 models: ['LR', 'NB', 'KNN', 'CART', 'SVM', 'Bag', 'RF', 'ET', 'Ada', 'GB', 'Vote-Soft', 'Vote-Hard', 'Stack', 'Bag-SVM', 'Bag-KNN', 'XGB', 'LGB', 'CAT', 'TabNet', 'FNN']\n"
     ]
    }
   ],
   "source": [
    "# Save or Load models\n",
    "dataset_str  = \"mvp-kyt-sup-main\"\n",
    "models_str  = \"models\"\n",
    "folder_str = f\"./{models_str}/{dataset_str}\"\n",
    "try:\n",
    "    os.makedirs(folder_str, exist_ok=True)\n",
    "    for name, pipe in optimized_models:\n",
    "        joblib.dump(pipe, f\"{folder_str}/{name}.pkl\", compress=True)\n",
    "    print(f\"💾 Saved {len(optimized_models)} models: {[name for name, _ in optimized_models]}\")\n",
    "except:\n",
    "    if azureClient.download_documents(models_str, dataset_str, base_path=\"./\"):\n",
    "        print(\"Download from Azure Blob Storage completed successfully.\")\n",
    "\n",
    "    folder_dir = Path(folder_str)\n",
    "    if(folder_dir.exists() and any(folder_dir.iterdir())):\n",
    "        print(\"❌ No models were trained.\")\n",
    "        optimized_models = []\n",
    "        if os.path.exists(folder_dir):\n",
    "            for file in os.listdir(folder_dir):\n",
    "                if file.endswith('.pkl'):\n",
    "                    name = file.replace('.pkl', '')\n",
    "                    pipe = joblib.load(f\"{folder_str}/{file}\")\n",
    "                    optimized_models.append((name, pipe))\n",
    "            print(f\"📁 Loaded {len(optimized_models)} models: {[name for name, _ in optimized_models]}\")\n",
    "        else:\n",
    "            print(\"❌ No models found\")\n",
    "    else:\n",
    "        print(\"❌ No models available.\")"
   ]
  },
  {
   "cell_type": "markdown",
   "metadata": {},
   "source": [
    "**8. Validate all models and select the best models**\n",
    "\n",
    "Let's validate and select the best models by applying all trained pipelines to the previously generated testing set using the multi-metric score function.    \n",
    "\n",
    "Model validation with an unseen dataset during training can give us an approximate measure of how the model would perform in the real world."
   ]
  },
  {
   "cell_type": "code",
   "execution_count": 40,
   "metadata": {},
   "outputs": [
    {
     "name": "stdout",
     "output_type": "stream",
     "text": [
      "\n",
      "🏆 Final Model Rankings:\n",
      "------------------------------------------------------------\n",
      "Model           Composite Score    PR-AUC    \n",
      "------------------------------------------------------------\n",
      "TabNet            0.9652            0.9988\n",
      "FNN               0.9457            0.9958\n",
      "CAT               0.9398            0.9969\n",
      "XGB               0.9379            0.9972\n",
      "LGB               0.9354            0.9973\n",
      "Vote-Soft         0.9349            0.9971\n",
      "GB                0.9301            0.9966\n",
      "Bag               0.9277            0.9950\n",
      "Bag-KNN           0.9261            0.9968\n",
      "RF                0.9260            0.9972\n",
      "Stack             0.9180            0.9965\n",
      "SVM               0.9172            0.9947\n",
      "KNN               0.9145            0.9919\n",
      "Bag-SVM           0.9119            0.9944\n",
      "Vote-Hard         0.9056            0.0000\n",
      "ET                0.9015            0.9959\n",
      "CART              0.8989            0.9873\n",
      "Ada               0.8809            0.9922\n",
      "LR                0.8552            0.9928\n",
      "NB                0.5525            0.9786\n"
     ]
    }
   ],
   "source": [
    "# Select best models based on composite score and PR-AUC\n",
    "test_results = []\n",
    "for name, pipe in optimized_models:\n",
    "    y_pred = pipe.predict(X_test)\n",
    "    \n",
    "    # Primary metric (same as training)\n",
    "    primary_score = aml_score(y_test, y_pred)\n",
    "    \n",
    "    # Supplementary metric: PR-AUC (threshold-independent)\n",
    "    try:\n",
    "        y_proba = pipe.predict_proba(X_test)[:, 1]  # Probability of illicit class\n",
    "        prauc = average_precision_score(y_test, y_proba)\n",
    "    except AttributeError:\n",
    "        # Some models don't support predict_proba\n",
    "        prauc = 0.0\n",
    "    \n",
    "    test_results.append((name, primary_score, prauc))\n",
    "\n",
    "# Sort by primary metric (composite score)\n",
    "test_results.sort(key=lambda x: x[1], reverse=True)\n",
    "\n",
    "print(f\"\\n🏆 Final Model Rankings:\")\n",
    "print('-'*60)\n",
    "print(f\"{'Model':<15} {'Composite Score':<18} {'PR-AUC':<10}\")\n",
    "print('-'*60)\n",
    "for name, comp_score, pr_auc in test_results:\n",
    "    print(f\"{name:<15} {comp_score:>8.4f}          {pr_auc:>8.4f}\")"
   ]
  },
  {
   "cell_type": "markdown",
   "metadata": {},
   "source": [
    "**Threshold Tuning Analysis**\n",
    "\n",
    "Optimize the classification threshold to minimize licit false positives while maintaining high illicit detection rate (recall). This analysis helps determine the production-ready threshold for deployment."
   ]
  },
  {
   "cell_type": "code",
   "execution_count": 41,
   "metadata": {},
   "outputs": [
    {
     "name": "stdout",
     "output_type": "stream",
     "text": [
      "🎚️ Threshold Tuning Analysis for TabNet\n",
      "======================================================================\n",
      "\n",
      "📊 Optimal Threshold: 0.900\n",
      "   Target: Maintain ≥85% recall, maximize precision\n",
      "\n",
      "   Performance Metrics:\n",
      "   ├─ Precision: 0.992 (minimize licit FPs)\n",
      "   ├─ Recall: 0.983 (catch illicit transactions)\n",
      "   ├─ F1 Score: 0.987\n",
      "   └─ FPR: 0.077 (licit misclassification rate)\n",
      "\n",
      "   Confusion Matrix:\n",
      "   ├─ True Positives (illicit caught): 8262\n",
      "   ├─ True Negatives (licit correct): 839\n",
      "   ├─ False Positives (licit flagged): 70 ⚠️\n",
      "   └─ False Negatives (illicit missed): 142 ❌\n",
      "\n",
      "   Improvement over default threshold (0.5):\n",
      "   ├─ Precision gain: +0.3%\n",
      "   ├─ FP reduction: 26 fewer licit transactions flagged\n",
      "   └─ Recall change: -1.3%\n"
     ]
    },
    {
     "data": {
      "image/png": "[encoded data removed]",
      "text/plain": [
       "<Figure size 1600x1200 with 4 Axes>"
      ]
     },
     "metadata": {},
     "output_type": "display_data"
    },
    {
     "name": "stdout",
     "output_type": "stream",
     "text": [
      "\n",
      "💡 Deployment Recommendation:\n",
      "   Use threshold = 0.900 for prediction:\n"
     ]
    }
   ],
   "source": [
    "# Cell: Threshold Tuning Analysis\n",
    "\n",
    "import matplotlib.pyplot as plt\n",
    "from sklearn.metrics import precision_recall_curve, confusion_matrix, roc_curve\n",
    "\n",
    "# Get best model from validation results\n",
    "best_model_name = test_results[0][0]\n",
    "best_model = next(model for name, model in optimized_models if name == best_model_name)\n",
    "\n",
    "# Generate probability predictions\n",
    "try:\n",
    "    y_proba = best_model.predict_proba(X_test)[:, 1]  # Illicit class probabilities\n",
    "    \n",
    "    print(f\"🎚️ Threshold Tuning Analysis for {best_model_name}\")\n",
    "    print(\"=\"*70)\n",
    "    \n",
    "    # Evaluate multiple thresholds\n",
    "    thresholds_to_test = np.linspace(0.1, 0.9, 80)\n",
    "    threshold_results = []\n",
    "    \n",
    "    for thresh in thresholds_to_test:\n",
    "        y_pred_tuned = (y_proba >= thresh).astype(int)\n",
    "        \n",
    "        tn, fp, fn, tp = confusion_matrix(y_test, y_pred_tuned).ravel()\n",
    "        \n",
    "        # Calculate metrics\n",
    "        precision_val = tp / (tp + fp) if (tp + fp) > 0 else 0\n",
    "        recall_val = tp / (tp + fn) if (tp + fn) > 0 else 0\n",
    "        fpr = fp / (fp + tn) if (fp + tn) > 0 else 0  # False positive rate\n",
    "        f1 = 2 * (precision_val * recall_val) / (precision_val + recall_val) if (precision_val + recall_val) > 0 else 0\n",
    "        \n",
    "        threshold_results.append({\n",
    "            'threshold': thresh,\n",
    "            'precision': precision_val,\n",
    "            'recall': recall_val,\n",
    "            'f1': f1,\n",
    "            'fpr': fpr,\n",
    "            'false_positives': fp,\n",
    "            'false_negatives': fn,\n",
    "            'true_positives': tp,\n",
    "            'true_negatives': tn\n",
    "        })\n",
    "    \n",
    "    df_thresholds = pd.DataFrame(threshold_results)\n",
    "    \n",
    "    # Find optimal threshold: Minimize licit false positives while maintaining 85% recall\n",
    "    target_recall = 0.85\n",
    "    candidates = df_thresholds[df_thresholds['recall'] >= target_recall]\n",
    "    \n",
    "    if len(candidates) > 0:\n",
    "        optimal_row = candidates.loc[candidates['precision'].idxmax()]\n",
    "        optimal_threshold = optimal_row['threshold']\n",
    "        \n",
    "        print(f\"\\n📊 Optimal Threshold: {optimal_threshold:.3f}\")\n",
    "        print(f\"   Target: Maintain ≥{target_recall*100:.0f}% recall, maximize precision\")\n",
    "        print(f\"\\n   Performance Metrics:\")\n",
    "        print(f\"   ├─ Precision: {optimal_row['precision']:.3f} (minimize licit FPs)\")\n",
    "        print(f\"   ├─ Recall: {optimal_row['recall']:.3f} (catch illicit transactions)\")\n",
    "        print(f\"   ├─ F1 Score: {optimal_row['f1']:.3f}\")\n",
    "        print(f\"   └─ FPR: {optimal_row['fpr']:.3f} (licit misclassification rate)\")\n",
    "        print(f\"\\n   Confusion Matrix:\")\n",
    "        print(f\"   ├─ True Positives (illicit caught): {int(optimal_row['true_positives'])}\")\n",
    "        print(f\"   ├─ True Negatives (licit correct): {int(optimal_row['true_negatives'])}\")\n",
    "        print(f\"   ├─ False Positives (licit flagged): {int(optimal_row['false_positives'])} ⚠️\")\n",
    "        print(f\"   └─ False Negatives (illicit missed): {int(optimal_row['false_negatives'])} ❌\")\n",
    "        \n",
    "        # Compare with default threshold (0.5)\n",
    "        default_row = df_thresholds.iloc[(df_thresholds['threshold'] - 0.5).abs().argsort()[:1]].iloc[0]\n",
    "        \n",
    "        print(f\"\\n   Improvement over default threshold (0.5):\")\n",
    "        print(f\"   ├─ Precision gain: {(optimal_row['precision'] - default_row['precision'])*100:+.1f}%\")\n",
    "        print(f\"   ├─ FP reduction: {int(default_row['false_positives'] - optimal_row['false_positives'])} fewer licit transactions flagged\")\n",
    "        print(f\"   └─ Recall change: {(optimal_row['recall'] - default_row['recall'])*100:+.1f}%\")\n",
    "    else:\n",
    "        optimal_threshold = 0.5\n",
    "        print(f\"⚠️  Could not achieve {target_recall*100:.0f}% recall target. Using default threshold 0.5\")\n",
    "    \n",
    "    # Visualization: Precision-Recall-Threshold curves\n",
    "    fig, axes = plt.subplots(2, 2, figsize=(16, 12))\n",
    "    \n",
    "    # Plot 1: Precision-Recall curve\n",
    "    precision_curve, recall_curve, pr_thresholds = precision_recall_curve(y_test, y_proba)\n",
    "    axes[0, 0].plot(recall_curve, precision_curve, linewidth=2, color='blue')\n",
    "    axes[0, 0].axhline(y=optimal_row['precision'], color='red', linestyle='--', label=f'Optimal (thresh={optimal_threshold:.2f})')\n",
    "    axes[0, 0].axvline(x=optimal_row['recall'], color='red', linestyle='--')\n",
    "    axes[0, 0].set_xlabel('Recall (Illicit Detection Rate)', fontsize=12)\n",
    "    axes[0, 0].set_ylabel('Precision (Accuracy of Illicit Predictions)', fontsize=12)\n",
    "    axes[0, 0].set_title('Precision-Recall Curve', fontsize=14, fontweight='bold')\n",
    "    axes[0, 0].legend()\n",
    "    axes[0, 0].grid(True, alpha=0.3)\n",
    "    \n",
    "    # Plot 2: Threshold vs Precision/Recall\n",
    "    axes[0, 1].plot(df_thresholds['threshold'], df_thresholds['precision'], label='Precision', linewidth=2, color='green')\n",
    "    axes[0, 1].plot(df_thresholds['threshold'], df_thresholds['recall'], label='Recall', linewidth=2, color='orange')\n",
    "    axes[0, 1].axvline(x=optimal_threshold, color='red', linestyle='--', linewidth=2, label=f'Optimal={optimal_threshold:.2f}')\n",
    "    axes[0, 1].set_xlabel('Classification Threshold', fontsize=12)\n",
    "    axes[0, 1].set_ylabel('Score', fontsize=12)\n",
    "    axes[0, 1].set_title('Precision & Recall vs Threshold', fontsize=14, fontweight='bold')\n",
    "    axes[0, 1].legend()\n",
    "    axes[0, 1].grid(True, alpha=0.3)\n",
    "    \n",
    "    # Plot 3: False Positives vs Threshold\n",
    "    axes[1, 0].plot(df_thresholds['threshold'], df_thresholds['false_positives'], linewidth=2, color='red')\n",
    "    axes[1, 0].axvline(x=optimal_threshold, color='blue', linestyle='--', linewidth=2, label=f'Optimal={optimal_threshold:.2f}')\n",
    "    axes[1, 0].set_xlabel('Classification Threshold', fontsize=12)\n",
    "    axes[1, 0].set_ylabel('False Positives (Licit Flagged)', fontsize=12)\n",
    "    axes[1, 0].set_title('Licit False Positives vs Threshold', fontsize=14, fontweight='bold')\n",
    "    axes[1, 0].legend()\n",
    "    axes[1, 0].grid(True, alpha=0.3)\n",
    "    \n",
    "    # Plot 4: ROC Curve\n",
    "    fpr_roc, tpr_roc, _ = roc_curve(y_test, y_proba)\n",
    "    axes[1, 1].plot(fpr_roc, tpr_roc, linewidth=2, color='purple')\n",
    "    axes[1, 1].plot([0, 1], [0, 1], 'k--', linewidth=1, label='Random Classifier')\n",
    "    axes[1, 1].set_xlabel('False Positive Rate', fontsize=12)\n",
    "    axes[1, 1].set_ylabel('True Positive Rate (Recall)', fontsize=12)\n",
    "    axes[1, 1].set_title('ROC Curve', fontsize=14, fontweight='bold')\n",
    "    axes[1, 1].legend()\n",
    "    axes[1, 1].grid(True, alpha=0.3)\n",
    "    \n",
    "    plt.tight_layout()\n",
    "    plt.show()\n",
    "    \n",
    "    print(f\"\\n💡 Deployment Recommendation:\")\n",
    "    print(f\"   Use threshold = {optimal_threshold:.3f} for prediction:\")\n",
    "  \n",
    "\n",
    "except AttributeError:\n",
    "    print(f\"⚠️  Model {best_model_name} does not support probability predictions.\")\n",
    "    print(f\"   Threshold tuning requires predict_proba() method.\")\n",
    "    print(f\"   Consider using models like: XGB, LGB, CAT, SVM(probability=True), etc.\")"
   ]
  },
  {
   "cell_type": "markdown",
   "metadata": {},
   "source": [
    "**9. Use best models to predict unknown data**\n",
    "\n",
    "Let's apply the best pipeline model to unknown data—data that does not have labels—and display the results to get an idea of how the landscape of unknown illicit transactions could be. This measure can also be used for comparison with future improvements to the machine learning techniques."
   ]
  },
  {
   "cell_type": "code",
   "execution_count": 42,
   "metadata": {},
   "outputs": [
    {
     "name": "stdout",
     "output_type": "stream",
     "text": [
      "\n",
      "📈 Prediction Distribution:\n",
      "Model used: TabNet\n"
     ]
    },
    {
     "data": {
      "image/png": "[encoded data removed]",
      "text/plain": [
       "<Figure size 1200x400 with 2 Axes>"
      ]
     },
     "metadata": {},
     "output_type": "display_data"
    },
    {
     "name": "stdout",
     "output_type": "stream",
     "text": [
      "📊 Prediction Summary:\n",
      "  Total predictions: 157,205\n",
      "  Illicit transactions: 21,068\n",
      "  Licit transactions: 136,137\n",
      "  Imbalance ratio: 6.5:1\n",
      "\n",
      "🔮 Sample illicit transactions (showing 100 of 21,068 total)\n"
     ]
    },
    {
     "data": {
      "text/html": [
       "<div>\n",
       "<style scoped>\n",
       "    .dataframe tbody tr th:only-of-type {\n",
       "        vertical-align: middle;\n",
       "    }\n",
       "\n",
       "    .dataframe tbody tr th {\n",
       "        vertical-align: top;\n",
       "    }\n",
       "\n",
       "    .dataframe thead th {\n",
       "        text-align: right;\n",
       "    }\n",
       "</style>\n",
       "<table border=\"1\" class=\"dataframe\">\n",
       "  <thead>\n",
       "    <tr style=\"text-align: right;\">\n",
       "      <th></th>\n",
       "      <th>txId</th>\n",
       "      <th>prediction</th>\n",
       "    </tr>\n",
       "  </thead>\n",
       "  <tbody>\n",
       "    <tr>\n",
       "      <th>40</th>\n",
       "      <td>3307463</td>\n",
       "      <td>Illicit</td>\n",
       "    </tr>\n",
       "    <tr>\n",
       "      <th>60</th>\n",
       "      <td>231208959</td>\n",
       "      <td>Illicit</td>\n",
       "    </tr>\n",
       "    <tr>\n",
       "      <th>159</th>\n",
       "      <td>230471924</td>\n",
       "      <td>Illicit</td>\n",
       "    </tr>\n",
       "    <tr>\n",
       "      <th>160</th>\n",
       "      <td>232894488</td>\n",
       "      <td>Illicit</td>\n",
       "    </tr>\n",
       "    <tr>\n",
       "      <th>170</th>\n",
       "      <td>81167039</td>\n",
       "      <td>Illicit</td>\n",
       "    </tr>\n",
       "    <tr>\n",
       "      <th>...</th>\n",
       "      <td>...</td>\n",
       "      <td>...</td>\n",
       "    </tr>\n",
       "    <tr>\n",
       "      <th>3340</th>\n",
       "      <td>231996128</td>\n",
       "      <td>Illicit</td>\n",
       "    </tr>\n",
       "    <tr>\n",
       "      <th>3364</th>\n",
       "      <td>230543020</td>\n",
       "      <td>Illicit</td>\n",
       "    </tr>\n",
       "    <tr>\n",
       "      <th>3367</th>\n",
       "      <td>132520113</td>\n",
       "      <td>Illicit</td>\n",
       "    </tr>\n",
       "    <tr>\n",
       "      <th>3429</th>\n",
       "      <td>232897299</td>\n",
       "      <td>Illicit</td>\n",
       "    </tr>\n",
       "    <tr>\n",
       "      <th>3463</th>\n",
       "      <td>230438520</td>\n",
       "      <td>Illicit</td>\n",
       "    </tr>\n",
       "  </tbody>\n",
       "</table>\n",
       "<p>100 rows × 2 columns</p>\n",
       "</div>"
      ],
      "text/plain": [
       "           txId prediction\n",
       "40      3307463    Illicit\n",
       "60    231208959    Illicit\n",
       "159   230471924    Illicit\n",
       "160   232894488    Illicit\n",
       "170    81167039    Illicit\n",
       "...         ...        ...\n",
       "3340  231996128    Illicit\n",
       "3364  230543020    Illicit\n",
       "3367  132520113    Illicit\n",
       "3429  232897299    Illicit\n",
       "3463  230438520    Illicit\n",
       "\n",
       "[100 rows x 2 columns]"
      ]
     },
     "metadata": {},
     "output_type": "display_data"
    },
    {
     "name": "stdout",
     "output_type": "stream",
     "text": [
      "\n",
      "🔮 Sample licit transactions (showing 100 of 136,137 total)\n"
     ]
    },
    {
     "data": {
      "text/html": [
       "<div>\n",
       "<style scoped>\n",
       "    .dataframe tbody tr th:only-of-type {\n",
       "        vertical-align: middle;\n",
       "    }\n",
       "\n",
       "    .dataframe tbody tr th {\n",
       "        vertical-align: top;\n",
       "    }\n",
       "\n",
       "    .dataframe thead th {\n",
       "        text-align: right;\n",
       "    }\n",
       "</style>\n",
       "<table border=\"1\" class=\"dataframe\">\n",
       "  <thead>\n",
       "    <tr style=\"text-align: right;\">\n",
       "      <th></th>\n",
       "      <th>txId</th>\n",
       "      <th>prediction</th>\n",
       "    </tr>\n",
       "  </thead>\n",
       "  <tbody>\n",
       "    <tr>\n",
       "      <th>0</th>\n",
       "      <td>230425980</td>\n",
       "      <td>Licit</td>\n",
       "    </tr>\n",
       "    <tr>\n",
       "      <th>1</th>\n",
       "      <td>5530458</td>\n",
       "      <td>Licit</td>\n",
       "    </tr>\n",
       "    <tr>\n",
       "      <th>2</th>\n",
       "      <td>232022460</td>\n",
       "      <td>Licit</td>\n",
       "    </tr>\n",
       "    <tr>\n",
       "      <th>3</th>\n",
       "      <td>230460314</td>\n",
       "      <td>Licit</td>\n",
       "    </tr>\n",
       "    <tr>\n",
       "      <th>4</th>\n",
       "      <td>230459870</td>\n",
       "      <td>Licit</td>\n",
       "    </tr>\n",
       "    <tr>\n",
       "      <th>...</th>\n",
       "      <td>...</td>\n",
       "      <td>...</td>\n",
       "    </tr>\n",
       "    <tr>\n",
       "      <th>97</th>\n",
       "      <td>230521273</td>\n",
       "      <td>Licit</td>\n",
       "    </tr>\n",
       "    <tr>\n",
       "      <th>98</th>\n",
       "      <td>230658997</td>\n",
       "      <td>Licit</td>\n",
       "    </tr>\n",
       "    <tr>\n",
       "      <th>99</th>\n",
       "      <td>231179660</td>\n",
       "      <td>Licit</td>\n",
       "    </tr>\n",
       "    <tr>\n",
       "      <th>100</th>\n",
       "      <td>230967090</td>\n",
       "      <td>Licit</td>\n",
       "    </tr>\n",
       "    <tr>\n",
       "      <th>101</th>\n",
       "      <td>230439439</td>\n",
       "      <td>Licit</td>\n",
       "    </tr>\n",
       "  </tbody>\n",
       "</table>\n",
       "<p>100 rows × 2 columns</p>\n",
       "</div>"
      ],
      "text/plain": [
       "          txId prediction\n",
       "0    230425980      Licit\n",
       "1      5530458      Licit\n",
       "2    232022460      Licit\n",
       "3    230460314      Licit\n",
       "4    230459870      Licit\n",
       "..         ...        ...\n",
       "97   230521273      Licit\n",
       "98   230658997      Licit\n",
       "99   231179660      Licit\n",
       "100  230967090      Licit\n",
       "101  230439439      Licit\n",
       "\n",
       "[100 rows x 2 columns]"
      ]
     },
     "metadata": {},
     "output_type": "display_data"
    }
   ],
   "source": [
    "# Apply best model to unlabeled data\n",
    "#best_model_name = test_results[0][0]\n",
    "#best_model = next(model for name, model in optimized_models if name == best_model_name)\n",
    "#predictions = best_model.predict(X_unlabeled)\n",
    "X_unlabeled = df_unlabeled.drop(['class', 'txId'], axis=1)\n",
    "y_proba = best_model.predict_proba(X_unlabeled)[:, 1]\n",
    "predictions = (y_proba >= optimal_threshold).astype(int)\n",
    "df_prediction = pd.Series(predictions, name=\"prediction\")\n",
    "df_final = pd.concat([df_unlabeled[['txId']], df_prediction], axis=1)\n",
    "df_final = df_final.applymap(lambda x: 'Illicit' if x == 0 else 'Licit' if x == 1 else x)\n",
    "\n",
    "# Analyze prediction distribution\n",
    "class_counts = df_final['prediction'].value_counts()\n",
    "labeled_only = class_counts[class_counts.index != 'unknown']\n",
    "imbalance_ratio = labeled_only.max() / labeled_only.min() if len(labeled_only) >= 2 else 1.0\n",
    "\n",
    "# Plot distribution\n",
    "print(f\"\\n📈 Prediction Distribution:\")\n",
    "print(f\"Model used:\", best_model_name)\n",
    "fig, (ax1, ax2) = plt.subplots(1, 2, figsize=(12, 4))\n",
    "class_counts.plot(kind='bar', ax=ax1, color=['lightblue', 'orange', 'lightcoral'])\n",
    "ax1.set_title('Class Counts')\n",
    "ax1.tick_params(axis='x', rotation=45)\n",
    "class_counts.plot(kind='pie', ax=ax2, autopct='%1.1f%%', colors=['lightblue', 'orange', 'lightcoral'])\n",
    "ax2.set_title('Class Distribution')\n",
    "ax2.set_ylabel('')\n",
    "plt.tight_layout()\n",
    "plt.show()\n",
    "\n",
    "# Display prediction samples and summary statistics\n",
    "print(f\"📊 Prediction Summary:\")\n",
    "print(f\"  Total predictions: {len(df_final):,}\")\n",
    "print(f\"  Illicit transactions: {sum(df_final['prediction'] == 'Illicit'):,}\")\n",
    "print(f\"  Licit transactions: {sum(df_final['prediction'] == 'Licit'):,}\")\n",
    "print(f\"  Imbalance ratio: {imbalance_ratio:.1f}:1\")\n",
    "\n",
    "# Get sample transactions for analysis\n",
    "illicit_selector = df_final['prediction'] == 'Illicit'\n",
    "X_unlabeled_illicit = df_final[illicit_selector].head(100)\n",
    "print(f\"\\n🔮 Sample illicit transactions (showing {len(X_unlabeled_illicit)} of {sum(illicit_selector):,} total)\")\n",
    "display(X_unlabeled_illicit)\n",
    "\n",
    "licit_selector = df_final['prediction'] == 'Licit'\n",
    "X_unlabeled_licit = df_final[licit_selector].head(100)\n",
    "print(f\"\\n🔮 Sample licit transactions (showing {len(X_unlabeled_licit)} of {sum(licit_selector):,} total)\")\n",
    "display(X_unlabeled_licit)"
   ]
  },
  {
   "cell_type": "markdown",
   "metadata": {},
   "source": [
    "### Considerations\n",
    "\n",
    "Some considerations must be made before the conclusion:\n",
    "\n",
    "- Compressed data can increase training time but reduces dataset sizes without influencing the final result.\n",
    "\n",
    "- Models like Naive Bayes reached almost 0.6 in contrast to other models and were removed from training;  \n",
    "\n",
    "- Models like Logistic Regression also had poor performance and were removed from training, but they are used in some ensembles as default estimator models. \n",
    "\n",
    "**Future improvements to training:**\n",
    "\n",
    "- The unsupervised approach could produce good or even better results because it would use much more data to identify patterns by using the complete dataset. Also, the labeled dataset could indicate which clusters could be labeled with the illicit class;\n",
    "\n",
    "- The training could use models more recommended for graph-type datasets, such as Graph Convolutional Networks (GCN), making use of the edge dataset to learn patterns with deeper transaction chains, not only direct neighbors.\n",
    "\n",
    "**Production readiness:**\n",
    "\n",
    "- This training was performed on a dataset curated for research purposes. There is no information about which features were used, so in order to have a production-ready model, a new dataset in the same format would need to be gathered and curated;\n",
    "\n",
    "- A final performance indicator would need to be established to consider the model ready for a production environment, by classifying real labeled current data."
   ]
  },
  {
   "cell_type": "markdown",
   "metadata": {},
   "source": [
    "### Conclusions\n",
    "\n",
    "#### Model Performance Summary\n",
    "\n",
    "This supervised learning approach successfully developed a high-performance KYT system achieving **88.49% performance** on cryptocurrency transaction risk classification. The **SVM (Support Vector Machine)** emerged as the champion model, demonstrating superior performance in distinguishing illicit from licit Bitcoin transactions.\n",
    "\n",
    "#### Key Technical Achievements\n",
    "\n",
    "- **Dimensionality Reduction**: PCA preprocessing reduced feature space from 166 to 59 dimensions while preserving 95% variance\n",
    "- **Algorithm Comparison**: Comprehensive evaluation of 10 ML algorithms with hyperparameter optimization via RandomizedSearchCV  \n",
    "- **Model Ranking**: SVM (88.49%) > KNN (86.87%) > GB (85.02%) demonstrated that ensemble and kernel methods excel in financial pattern recognition\n",
    "- **Pipeline Standardization**: StandardScaler + PCA + model architecture ensures consistent preprocessing across algorithms\n",
    "- **Model Persistence**: All trained models saved with compression for deployment scalability\n",
    "- **Performance Validation**: Stratified cross-validation ensures reliable performance on imbalanced financial data\n",
    "\n",
    "#### Real-World Impact\n",
    "\n",
    "The trained model successfully processed **157,205 unlabeled transactions**, identifying **12,675 potentially illicit transactions**, providing risk assessment capabilities for unknown data—essential for AML compliance."
   ]
  }
 ],
 "metadata": {
  "kernelspec": {
   "display_name": "Python (venv-analytics)",
   "language": "python",
   "name": "venv-analytics"
  },
  "language_info": {
   "codemirror_mode": {
    "name": "ipython",
    "version": 3
   },
   "file_extension": ".py",
   "mimetype": "text/x-python",
   "name": "python",
   "nbconvert_exporter": "python",
   "pygments_lexer": "ipython3",
   "version": "3.13.5"
  }
 },
 "nbformat": 4,
 "nbformat_minor": 4
}
